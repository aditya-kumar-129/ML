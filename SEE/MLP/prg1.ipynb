{
 "cells": [
  {
   "cell_type": "code",
   "execution_count": 68,
   "id": "ee1ff776",
   "metadata": {},
   "outputs": [
    {
     "data": {
      "text/html": [
       "<div>\n",
       "<style scoped>\n",
       "    .dataframe tbody tr th:only-of-type {\n",
       "        vertical-align: middle;\n",
       "    }\n",
       "\n",
       "    .dataframe tbody tr th {\n",
       "        vertical-align: top;\n",
       "    }\n",
       "\n",
       "    .dataframe thead th {\n",
       "        text-align: right;\n",
       "    }\n",
       "</style>\n",
       "<table border=\"1\" class=\"dataframe\">\n",
       "  <thead>\n",
       "    <tr style=\"text-align: right;\">\n",
       "      <th></th>\n",
       "      <th>satisfaction_level</th>\n",
       "      <th>last_evaluation</th>\n",
       "      <th>number_project</th>\n",
       "      <th>average_montly_hours</th>\n",
       "      <th>time_spend_company</th>\n",
       "      <th>Work_accident</th>\n",
       "      <th>left</th>\n",
       "      <th>promotion_last_5years</th>\n",
       "      <th>sales</th>\n",
       "      <th>salary</th>\n",
       "    </tr>\n",
       "  </thead>\n",
       "  <tbody>\n",
       "    <tr>\n",
       "      <th>0</th>\n",
       "      <td>0.38</td>\n",
       "      <td>0.53</td>\n",
       "      <td>2</td>\n",
       "      <td>157</td>\n",
       "      <td>3</td>\n",
       "      <td>0</td>\n",
       "      <td>1</td>\n",
       "      <td>0</td>\n",
       "      <td>sales</td>\n",
       "      <td>low</td>\n",
       "    </tr>\n",
       "    <tr>\n",
       "      <th>1</th>\n",
       "      <td>0.80</td>\n",
       "      <td>0.86</td>\n",
       "      <td>5</td>\n",
       "      <td>262</td>\n",
       "      <td>6</td>\n",
       "      <td>0</td>\n",
       "      <td>1</td>\n",
       "      <td>0</td>\n",
       "      <td>sales</td>\n",
       "      <td>medium</td>\n",
       "    </tr>\n",
       "    <tr>\n",
       "      <th>2</th>\n",
       "      <td>0.11</td>\n",
       "      <td>0.88</td>\n",
       "      <td>7</td>\n",
       "      <td>272</td>\n",
       "      <td>4</td>\n",
       "      <td>0</td>\n",
       "      <td>1</td>\n",
       "      <td>0</td>\n",
       "      <td>sales</td>\n",
       "      <td>medium</td>\n",
       "    </tr>\n",
       "    <tr>\n",
       "      <th>3</th>\n",
       "      <td>0.72</td>\n",
       "      <td>0.87</td>\n",
       "      <td>5</td>\n",
       "      <td>223</td>\n",
       "      <td>5</td>\n",
       "      <td>0</td>\n",
       "      <td>1</td>\n",
       "      <td>0</td>\n",
       "      <td>sales</td>\n",
       "      <td>low</td>\n",
       "    </tr>\n",
       "    <tr>\n",
       "      <th>4</th>\n",
       "      <td>0.37</td>\n",
       "      <td>0.52</td>\n",
       "      <td>2</td>\n",
       "      <td>159</td>\n",
       "      <td>3</td>\n",
       "      <td>0</td>\n",
       "      <td>1</td>\n",
       "      <td>0</td>\n",
       "      <td>sales</td>\n",
       "      <td>low</td>\n",
       "    </tr>\n",
       "  </tbody>\n",
       "</table>\n",
       "</div>"
      ],
      "text/plain": [
       "   satisfaction_level  last_evaluation  number_project  average_montly_hours  \\\n",
       "0                0.38             0.53               2                   157   \n",
       "1                0.80             0.86               5                   262   \n",
       "2                0.11             0.88               7                   272   \n",
       "3                0.72             0.87               5                   223   \n",
       "4                0.37             0.52               2                   159   \n",
       "\n",
       "   time_spend_company  Work_accident  left  promotion_last_5years  sales  \\\n",
       "0                   3              0     1                      0  sales   \n",
       "1                   6              0     1                      0  sales   \n",
       "2                   4              0     1                      0  sales   \n",
       "3                   5              0     1                      0  sales   \n",
       "4                   3              0     1                      0  sales   \n",
       "\n",
       "   salary  \n",
       "0     low  \n",
       "1  medium  \n",
       "2  medium  \n",
       "3     low  \n",
       "4     low  "
      ]
     },
     "execution_count": 68,
     "metadata": {},
     "output_type": "execute_result"
    }
   ],
   "source": [
    "import pandas as pd\n",
    "import numpy as np\n",
    "import matplotlib.pyplot as plt\n",
    "data = pd.read_csv(\"HR_comma_sep.csv\")\n",
    "data.head()"
   ]
  },
  {
   "cell_type": "code",
   "execution_count": 69,
   "id": "1f755f56",
   "metadata": {},
   "outputs": [],
   "source": [
    "from sklearn.preprocessing import LabelEncoder\n",
    "labelencoder=LabelEncoder()\n",
    "data['sales']=labelencoder.fit_transform(data['sales'])\n",
    "data['salary']=labelencoder.fit_transform(data['salary'])"
   ]
  },
  {
   "cell_type": "code",
   "execution_count": 70,
   "id": "b08e5d98",
   "metadata": {},
   "outputs": [],
   "source": [
    "x = data[['satisfaction_level', 'last_evaluation', 'number_project', 'average_montly_hours','time_spend_company', 'Work_accident', 'left', 'promotion_last_5years', 'sales']]\n",
    "y = data['salary']\n"
   ]
  },
  {
   "cell_type": "code",
   "execution_count": 71,
   "metadata": {},
   "outputs": [],
   "source": [
    "from sklearn.model_selection import train_test_split\n",
    "x_train, x_test, y_train, y_test = train_test_split(x, y, test_size=0.2)\n"
   ]
  },
  {
   "cell_type": "code",
   "execution_count": 72,
   "id": "b6a728b0",
   "metadata": {},
   "outputs": [],
   "source": [
    "from sklearn.neural_network import MLPClassifier\n",
    "model=MLPClassifier(hidden_layer_sizes=(6,5),learning_rate_init=0.01)\n",
    "model.fit(x_train,y_train)\n",
    "y_predict=model.predict(x_test)"
   ]
  },
  {
   "cell_type": "code",
   "execution_count": 73,
   "id": "7a9de4c0",
   "metadata": {},
   "outputs": [
    {
     "name": "stdout",
     "output_type": "stream",
     "text": [
      "[1]\n"
     ]
    },
    {
     "name": "stderr",
     "output_type": "stream",
     "text": [
      "C:\\Users\\adity\\AppData\\Local\\Packages\\PythonSoftwareFoundation.Python.3.8_qbz5n2kfra8p0\\LocalCache\\local-packages\\Python38\\site-packages\\sklearn\\base.py:450: UserWarning: X does not have valid feature names, but MLPClassifier was fitted with feature names\n",
      "  warnings.warn(\n"
     ]
    }
   ],
   "source": [
    "new_data = [[0.38,\t0.53,\t2,\t157,\t3,\t0\t,1,\t0\t,1]]\n",
    "prediced_value=model.predict(new_data)\n",
    "print(prediced_value)"
   ]
  },
  {
   "cell_type": "code",
   "execution_count": 74,
   "id": "f7d5639c",
   "metadata": {},
   "outputs": [
    {
     "name": "stdout",
     "output_type": "stream",
     "text": [
      "[[424   0]\n",
      " [ 19   0]]\n"
     ]
    }
   ],
   "source": [
    "from sklearn.metrics import confusion_matrix\n",
    "cm=confusion_matrix(y_test,y_predict,labels=[1,0])\n",
    "print(cm)"
   ]
  },
  {
   "cell_type": "code",
   "execution_count": 75,
   "id": "7e883c58",
   "metadata": {},
   "outputs": [
    {
     "name": "stdout",
     "output_type": "stream",
     "text": [
      "True Positive : 424\n",
      "True Negative : 0\n",
      "False Positive : 19\n",
      "False Negative : 0\n"
     ]
    }
   ],
   "source": [
    "TP=cm[0][0]\n",
    "TN=cm[1][1]\n",
    "FP=cm[1][0]\n",
    "FN=cm[0][1]\n",
    "\n",
    "print(f\"True Positive : {TP}\")\n",
    "print(f\"True Negative : {TN}\")\n",
    "print(f\"False Positive : {FP}\")\n",
    "print(f\"False Negative : {FN}\")"
   ]
  },
  {
   "cell_type": "code",
   "execution_count": 76,
   "id": "62a3cbdf",
   "metadata": {},
   "outputs": [
    {
     "data": {
      "text/plain": [
       "<sklearn.metrics._plot.confusion_matrix.ConfusionMatrixDisplay at 0x231919eba00>"
      ]
     },
     "execution_count": 76,
     "metadata": {},
     "output_type": "execute_result"
    },
    {
     "data": {
      "image/png": "[encoded data removed]",
      "text/plain": [
       "<Figure size 432x288 with 2 Axes>"
      ]
     },
     "metadata": {
      "needs_background": "light"
     },
     "output_type": "display_data"
    }
   ],
   "source": [
    "from sklearn.metrics import ConfusionMatrixDisplay\n",
    "matrix = ConfusionMatrixDisplay(cm)\n",
    "matrix.plot(cmap='Blues')"
   ]
  },
  {
   "cell_type": "code",
   "execution_count": 77,
   "id": "9875f73f",
   "metadata": {},
   "outputs": [
    {
     "name": "stdout",
     "output_type": "stream",
     "text": [
      "Recall Score: 0.479\n",
      "Specitivity Score: 0.0\n",
      "Precision Score: 0.475\n",
      "Negative Prediction Value: nan\n",
      "F1 Score: 0.433\n",
      "Matthews Correlation Coefficient: 0.0766\n"
     ]
    },
    {
     "name": "stderr",
     "output_type": "stream",
     "text": [
      "C:\\Users\\adity\\AppData\\Local\\Packages\\PythonSoftwareFoundation.Python.3.8_qbz5n2kfra8p0\\LocalCache\\local-packages\\Python38\\site-packages\\sklearn\\metrics\\_classification.py:1327: UndefinedMetricWarning: Precision is ill-defined and being set to 0.0 in labels with no predicted samples. Use `zero_division` parameter to control this behavior.\n",
      "  _warn_prf(average, modifier, msg_start, len(result))\n",
      "C:\\Users\\adity\\AppData\\Local\\Temp\\ipykernel_14028\\1408487141.py:5: RuntimeWarning: invalid value encountered in longlong_scalars\n",
      "  print(f\"Negative Prediction Value: {TN/(TN+FN):.3}\")\n"
     ]
    }
   ],
   "source": [
    "from sklearn.metrics import f1_score, precision_score, recall_score, matthews_corrcoef\n",
    "print(f\"Recall Score: {recall_score(y_test, y_predict,average='weighted' ):.3}\")\n",
    "print(f\"Specitivity Score: {TN/(TN+FP):.3}\")\n",
    "print(f\"Precision Score: {precision_score(y_test, y_predict,average='weighted'):.3}\")\n",
    "print(f\"Negative Prediction Value: {TN/(TN+FN):.3}\")\n",
    "print(f\"F1 Score: {f1_score(y_test, y_predict,average='weighted'):.3}\")\n",
    "print(f\"Matthews Correlation Coefficient: {matthews_corrcoef(y_test, y_predict):.3}\")\n"
   ]
  },
  {
   "cell_type": "code",
   "execution_count": 78,
   "id": "450d2eb6",
   "metadata": {},
   "outputs": [],
   "source": [
    "# N_TRAIN_SAMPLES = x_train.shape[0]\n",
    "# # print(\"Number of training samples:\", N_TRAIN_SAMPLES)\n",
    "# # Number of training samples: 11249\n",
    "# N_EPOCHS=25\n",
    "# N_BATCH=128\n",
    "# N_CLASSES=np.unique(y_train)\n",
    "# # print(\"Number of classes:\", N_CLASSES)\n",
    "# # Number of classes: [0 1 2]\n",
    "# score_test=[]\n",
    "# epoch=0\n",
    "# while epoch<N_EPOCHS:\n",
    "#     random_perm=np.random.permutation(x_train.shape[0])\n",
    "#     mini_batch_index=0\n",
    "#     while True:\n",
    "#         indices=random_perm[mini_batch_index:mini_batch_index+N_BATCH]\n",
    "#         model.partial_fit(x_train.iloc[indices],y_train.iloc[indices],N_CLASSES)\n",
    "#         mini_batch_index+=N_BATCH\n",
    "#         if mini_batch_index >=N_TRAIN_SAMPLES:\n",
    "#             break\n",
    "#     score_test.append(model.score(x_test,y_test))\n",
    "#     epoch+=1"
   ]
  },
  {
   "cell_type": "code",
   "execution_count": 79,
   "id": "143e8253",
   "metadata": {},
   "outputs": [],
   "source": [
    "# plt.plot(score_test)"
   ]
  }
 ],
 "metadata": {
  "kernelspec": {
   "display_name": "Python 3.8.10 64-bit (windows store)",
   "language": "python",
   "name": "python3"
  },
  "language_info": {
   "codemirror_mode": {
    "name": "ipython",
    "version": 3
   },
   "file_extension": ".py",
   "mimetype": "text/x-python",
   "name": "python",
   "nbconvert_exporter": "python",
   "pygments_lexer": "ipython3",
   "version": "3.8.10"
  },
  "vscode": {
   "interpreter": {
    "hash": "6f8f3054a7a12fe7352058eccdef04b8bf49ea888ba7350a6a9ec316568019a1"
   }
  }
 },
 "nbformat": 4,
 "nbformat_minor": 5
}
