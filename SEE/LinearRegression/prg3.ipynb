{
 "cells": [
  {
   "cell_type": "code",
   "execution_count": 1,
   "metadata": {},
   "outputs": [
    {
     "name": "stdout",
     "output_type": "stream",
     "text": [
      "   Population   Profit\n",
      "0      6.1101  17.5920\n",
      "1      5.5277   9.1302\n",
      "2      8.5186  13.6620\n",
      "3      7.0032  11.8540\n",
      "4      5.8598   6.8233\n"
     ]
    }
   ],
   "source": [
    "import pandas as pd\n",
    "import numpy as np\n",
    "data = pd.read_csv('ex1data1.csv')\n",
    "print(data.head())\n"
   ]
  },
  {
   "cell_type": "code",
   "execution_count": 2,
   "metadata": {},
   "outputs": [
    {
     "data": {
      "text/plain": [
       "Text(0.5, 1.0, 'Plot of Population vs Profit')"
      ]
     },
     "execution_count": 2,
     "metadata": {},
     "output_type": "execute_result"
    },
    {
     "data": {
      "image/png": "[encoded data removed]",
      "text/plain": [
       "<Figure size 432x288 with 1 Axes>"
      ]
     },
     "metadata": {
      "needs_background": "light"
     },
     "output_type": "display_data"
    }
   ],
   "source": [
    "import matplotlib.pyplot as plt\n",
    "plt.scatter(data[\"Population\"], data[\"Profit\"])\n",
    "plt.xlabel(\"Population\")\n",
    "plt.ylabel(\"Profit\")\n",
    "plt.title(\"Plot of Population vs Profit\")\n"
   ]
  },
  {
   "cell_type": "code",
   "execution_count": 3,
   "metadata": {},
   "outputs": [
    {
     "name": "stdout",
     "output_type": "stream",
     "text": [
      "Dimension of x are :- (97,)\n",
      "Dimension of y are :- (97,)\n"
     ]
    }
   ],
   "source": [
    "x = data[\"Population\"]\n",
    "print(f\"Dimension of x are :- {x.shape}\")\n",
    "y = data[\"Profit\"]\n",
    "print(f\"Dimension of y are :- {y.shape}\")\n"
   ]
  },
  {
   "cell_type": "code",
   "execution_count": 4,
   "metadata": {},
   "outputs": [
    {
     "name": "stdout",
     "output_type": "stream",
     "text": [
      "Dimension of x are :- (97, 1)\n",
      "Dimension of y are :- (97, 1)\n"
     ]
    }
   ],
   "source": [
    "x = data[\"Population\"].values.reshape(-1, 1)\n",
    "print(f\"Dimension of x are :- {x.shape}\")\n",
    "y = data[\"Profit\"].values.reshape(-1, 1)\n",
    "print(f\"Dimension of y are :- {y.shape}\")\n"
   ]
  },
  {
   "cell_type": "code",
   "execution_count": 5,
   "metadata": {},
   "outputs": [
    {
     "name": "stdout",
     "output_type": "stream",
     "text": [
      "the slope of the regression line is :- 1.18\n",
      "the intecept of the regression line is :- -3.84\n",
      "the equation of the regression line is :- 1.18*y + -3.84\n"
     ]
    }
   ],
   "source": [
    "from sklearn.model_selection import train_test_split\n",
    "xtrain, xtest, ytrain, ytest = train_test_split(x, y)"
   ]
  },
  {
   "cell_type": "code",
   "execution_count": null,
   "metadata": {},
   "outputs": [],
   "source": [
    "from sklearn.linear_model import LinearRegression\n",
    "reg = LinearRegression()\n",
    "reg.fit(xtrain, ytrain)\n",
    "print(f\"the slope of the regression line is :- {reg.coef_[0][0]:.3}\")\n",
    "print(f\"the intecept of the regression line is :- {reg.intercept_[0]:.3}\")\n",
    "print(\n",
    "    f\"the equation of the regression line is :- {reg.coef_[0][0]:.3}*y + {reg.intercept_[0]:.3}\")\n"
   ]
  },
  {
   "cell_type": "code",
   "execution_count": 6,
   "metadata": {},
   "outputs": [
    {
     "data": {
      "text/plain": [
       "Text(0.5, 1.0, 'Plot of Score vs CGPA')"
      ]
     },
     "execution_count": 6,
     "metadata": {},
     "output_type": "execute_result"
    },
    {
     "data": {
      "image/png": "[encoded data removed]",
      "text/plain": [
       "<Figure size 432x288 with 1 Axes>"
      ]
     },
     "metadata": {
      "needs_background": "light"
     },
     "output_type": "display_data"
    }
   ],
   "source": [
    "predict = reg.predict(xtest)\n",
    "plt.scatter(xtest, ytest, c='green')\n",
    "plt.plot(xtest, predict, c='red')\n",
    "plt.xlabel(\"Score\")\n",
    "plt.ylabel(\"CGPA\")\n",
    "plt.title(\"Plot of Score vs CGPA\")\n"
   ]
  },
  {
   "cell_type": "code",
   "execution_count": 7,
   "metadata": {},
   "outputs": [
    {
     "name": "stdout",
     "output_type": "stream",
     "text": [
      "The mean square error of the model is :- 1.68\n",
      "The Root mean square error of the model is :- 1.3\n",
      "The Mean Absolute Error of the model is:- 1.680 \n"
     ]
    }
   ],
   "source": [
    "from sklearn.metrics import mean_absolute_error, mean_absolute_error\n",
    "\n",
    "mae = mean_absolute_error(ytest, predict)\n",
    "print(f\"The mean square error of the model is :- {mae:.3}\")\n",
    "rmse = np.sqrt(mae)\n",
    "print(f\"The Root mean square error of the model is :- {rmse:.3}\")\n",
    "mae = mean_absolute_error(ytest, predict)\n",
    "print(f\"The Mean Absolute Error of the model is:- {mae:.3f} \")\n"
   ]
  }
 ],
 "metadata": {
  "kernelspec": {
   "display_name": "Python 3.8.10 64-bit (windows store)",
   "language": "python",
   "name": "python3"
  },
  "language_info": {
   "codemirror_mode": {
    "name": "ipython",
    "version": 3
   },
   "file_extension": ".py",
   "mimetype": "text/x-python",
   "name": "python",
   "nbconvert_exporter": "python",
   "pygments_lexer": "ipython3",
   "version": "3.8.10"
  },
  "orig_nbformat": 4,
  "vscode": {
   "interpreter": {
    "hash": "6f8f3054a7a12fe7352058eccdef04b8bf49ea888ba7350a6a9ec316568019a1"
   }
  }
 },
 "nbformat": 4,
 "nbformat_minor": 2
}
