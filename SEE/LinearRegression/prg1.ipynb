{
 "cells": [
  {
   "cell_type": "code",
   "execution_count": 89,
   "metadata": {},
   "outputs": [
    {
     "name": "stdout",
     "output_type": "stream",
     "text": [
      "   SAT Score  GPA\n",
      "0       1600  4.0\n",
      "1       1593  4.0\n",
      "2       1587  4.0\n",
      "3       1580  4.0\n",
      "4       1573  4.0\n"
     ]
    }
   ],
   "source": [
    "import pandas as pd\n",
    "import numpy as np\n",
    "data = pd.read_csv('SAT to GPA.csv')\n",
    "print(data.head())"
   ]
  },
  {
   "cell_type": "code",
   "execution_count": 90,
   "metadata": {},
   "outputs": [
    {
     "data": {
      "text/plain": [
       "Text(0.5, 1.0, 'Plot of Score vs CGPA')"
      ]
     },
     "execution_count": 90,
     "metadata": {},
     "output_type": "execute_result"
    },
    {
     "data": {
      "image/png": "[encoded data removed]",
      "text/plain": [
       "<Figure size 432x288 with 1 Axes>"
      ]
     },
     "metadata": {
      "needs_background": "light"
     },
     "output_type": "display_data"
    }
   ],
   "source": [
    "import matplotlib.pyplot as plt\n",
    "plt.scatter(data[\"SAT Score\"] , data[\"GPA\"])\n",
    "plt.xlabel(\"Score\")\n",
    "plt.ylabel(\"CGPA\")\n",
    "plt.title(\"Plot of Score vs CGPA\")"
   ]
  },
  {
   "cell_type": "markdown",
   "metadata": {},
   "source": [
    "The data is about the Score obtained by a student in a class vs the Cgpa of the student.\n",
    "\n",
    "\n",
    "We have to predict the Score of a student based on his/her Cgpa. or the other way around.\n",
    "\n",
    "We don't need any kind of preprocessing for this data."
   ]
  },
  {
   "cell_type": "code",
   "execution_count": 91,
   "metadata": {},
   "outputs": [
    {
     "name": "stdout",
     "output_type": "stream",
     "text": [
      "Dimension of x are :- (181,)\n",
      "Dimension of y are :- (181,)\n"
     ]
    }
   ],
   "source": [
    "x = data[\"SAT Score\"]\n",
    "print(f\"Dimension of x are :- {x.shape}\")\n",
    "y = data[\"GPA\"]\n",
    "print(f\"Dimension of y are :- {y.shape}\")\n"
   ]
  },
  {
   "cell_type": "markdown",
   "metadata": {},
   "source": [
    "Since the dimension of the data is not compatible that it can be trained on, we have to use some kind of preprocessing."
   ]
  },
  {
   "cell_type": "code",
   "execution_count": 92,
   "metadata": {},
   "outputs": [
    {
     "name": "stdout",
     "output_type": "stream",
     "text": [
      "Dimension of x are :- (181, 1)\n",
      "Dimension of y are :- (181, 1)\n"
     ]
    }
   ],
   "source": [
    "x = data[\"SAT Score\"].values.reshape(-1, 1)\n",
    "print(f\"Dimension of x are :- {x.shape}\")\n",
    "y = data[\"GPA\"].values.reshape(-1, 1)\n",
    "print(f\"Dimension of y are :- {y.shape}\")"
   ]
  },
  {
   "cell_type": "code",
   "execution_count": 93,
   "metadata": {},
   "outputs": [],
   "source": [
    "from sklearn.preprocessing import StandardScaler\n",
    "scaler = StandardScaler().fit(x)\n",
    "x = scaler.transform(x)\n",
    "scaler = StandardScaler().fit(y)\n",
    "y = scaler.transform(y)"
   ]
  },
  {
   "cell_type": "code",
   "execution_count": 94,
   "metadata": {},
   "outputs": [
    {
     "name": "stdout",
     "output_type": "stream",
     "text": [
      "the slope of the regression line is :- 0.939\n",
      "the intecept of the regression line is :- 0.0255\n",
      "the equation of the regression line is :- 0.939*y + 0.0255\n"
     ]
    }
   ],
   "source": [
    "from sklearn.model_selection import train_test_split\n",
    "xtrain, xtest, ytrain, ytest = train_test_split(x,y)\n",
    "\n",
    "from sklearn.linear_model import LinearRegression\n",
    "reg = LinearRegression()\n",
    "reg.fit(xtrain,ytrain)\n",
    "print(f\"the slope of the regression line is :- {reg.coef_[0][0]:.3}\")\n",
    "print(f\"the intecept of the regression line is :- {reg.intercept_[0]:.3}\")\n",
    "print(f\"the equation of the regression line is :- {reg.coef_[0][0]:.3}*y + {reg.intercept_[0]:.3}\")"
   ]
  },
  {
   "cell_type": "code",
   "execution_count": 95,
   "metadata": {},
   "outputs": [
    {
     "data": {
      "text/plain": [
       "Text(0.5, 1.0, 'Plot of Score vs CGPA')"
      ]
     },
     "execution_count": 95,
     "metadata": {},
     "output_type": "execute_result"
    },
    {
     "data": {
      "image/png": "[encoded data removed]",
      "text/plain": [
       "<Figure size 432x288 with 1 Axes>"
      ]
     },
     "metadata": {
      "needs_background": "light"
     },
     "output_type": "display_data"
    }
   ],
   "source": [
    "predict = reg.predict(xtest)\n",
    "plt.scatter(xtest,ytest,c='green')\n",
    "plt.plot(xtest, predict, c='red')\n",
    "plt.xlabel(\"Score\")\n",
    "plt.ylabel(\"CGPA\")\n",
    "plt.title(\"Plot of Score vs CGPA\")"
   ]
  },
  {
   "cell_type": "code",
   "execution_count": 96,
   "metadata": {},
   "outputs": [
    {
     "name": "stdout",
     "output_type": "stream",
     "text": [
      "The mean square error of the model is :- 0.337\n",
      "The Root mean square error of the model is :- 0.581\n"
     ]
    }
   ],
   "source": [
    "from sklearn.metrics import mean_absolute_error\n",
    "\n",
    "mean_square_root_error = mean_absolute_error(ytest,predict)\n",
    "print(f\"The mean square error of the model is :- {mean_square_root_error:.3}\")\n",
    "rmse = np.sqrt(mean_square_root_error)\n",
    "print(f\"The Root mean square error of the model is :- {rmse:.3}\")"
   ]
  },
  {
   "cell_type": "markdown",
   "metadata": {},
   "source": [
    "The reason of the erorr is that the data is not linearly separable."
   ]
  }
 ],
 "metadata": {
  "kernelspec": {
   "display_name": "Python 3.8.10 64-bit (windows store)",
   "language": "python",
   "name": "python3"
  },
  "language_info": {
   "codemirror_mode": {
    "name": "ipython",
    "version": 3
   },
   "file_extension": ".py",
   "mimetype": "text/x-python",
   "name": "python",
   "nbconvert_exporter": "python",
   "pygments_lexer": "ipython3",
   "version": "3.8.10"
  },
  "orig_nbformat": 4,
  "vscode": {
   "interpreter": {
    "hash": "6f8f3054a7a12fe7352058eccdef04b8bf49ea888ba7350a6a9ec316568019a1"
   }
  }
 },
 "nbformat": 4,
 "nbformat_minor": 2
}
