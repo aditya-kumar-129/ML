{
 "cells": [
  {
   "cell_type": "markdown",
   "metadata": {},
   "source": [
    "# **Model Measurement Analysis**\n",
    "\n",
    "# **Using any dataset and any classifier do the following:**\n",
    "\n",
    "**a)** Calculate TP, TN, FP and FN from sklearn library functions\n",
    "\n",
    "**b)** Calculate different metrics (Accuracy, Precision, Recall(Sensitivity), F1-Score, MCC, Specificity, Negative Predictive Value) by defining our own functions\n",
    "\n",
    "**c)** Get the sklearn metrics of these values\n",
    "\n",
    "**d)** Verify them by comparing with scikit-learn's library functions.\n",
    "\n",
    "**e)** Get the result of Confusion Matrix using sklearn\n",
    "\n",
    "**f)** Using sklearn, plot the ROC Curve of the probability values in our test data\n",
    "\n",
    "**g)** Using sklearn, plot the ROC Curve of random probabilities\n",
    "\n",
    "**h)** Calculate the AUC of our test data using sklearn\n",
    "\n",
    "**i)** Calculate the AUC of random probabilities using sklearn\n",
    "\n",
    "**j)** Interpret the results. Write the inference/analysis of each output. \n",
    "\n",
    "https://colab.research.google.com/drive/1Cgr6NyxTH0sH3Z8BHRIRFEgXrznD7_Qd?usp=sharing"
   ]
  },
  {
   "cell_type": "code",
   "execution_count": 1,
   "metadata": {},
   "outputs": [],
   "source": [
    "import numpy as np\n",
    "import pandas as pd\n",
    "# In Python machine learning programming, we have software called scikit-learn. This software contains some small datasets that are very easy to access, one of which is the load_breast_cancer dataset.\n",
    "from sklearn.datasets import load_breast_cancer\n",
    "from sklearn.model_selection import train_test_split\n",
    "from sklearn import svm, metrics\n",
    "import matplotlib.pyplot as plt\n",
    "import seaborn as sns\n",
    "import itertools\n",
    "\n",
    "# Generates pseudo-random number based on seed. Seed can be any number.\n",
    "# https://stackoverflow.com/questions/21494489/what-does-numpy-random-seed0-do\n",
    "\n",
    "\n",
    "# What is the use of these lines????\n",
    "\n",
    "# np.random.seed(42)  # for reproducibility\n",
    "# sns.set(rc={\"figure.figsize\": (8, 8)})\n",
    "# sns.set_style(\"ticks\")\n"
   ]
  },
  {
   "cell_type": "code",
   "execution_count": 6,
   "metadata": {},
   "outputs": [
    {
     "name": "stdout",
     "output_type": "stream",
     "text": [
      "Types of cancer (targets) are ['malignant' 'benign']\n"
     ]
    },
    {
     "data": {
      "text/plain": [
       "array([1, 1, 1, 1, 0, 1, 1, 1, 0, 1])"
      ]
     },
     "execution_count": 6,
     "metadata": {},
     "output_type": "execute_result"
    }
   ],
   "source": [
    "data = load_breast_cancer()\n",
    "print(f\"Types of cancer (targets) are {data.target_names}\")\n",
    "X = data.data  # features\n",
    "y = data.target  # labels\n",
    "# test_size :- int represents the absolute number of test samples.\n",
    "X_train, X_test, y_train, y_test = train_test_split( X, y, test_size=200, random_state=42, stratify=y)\n",
    "y_train[:10]   # printing the last 10 values of y_train"
   ]
  }
 ],
 "metadata": {
  "interpreter": {
   "hash": "6f8f3054a7a12fe7352058eccdef04b8bf49ea888ba7350a6a9ec316568019a1"
  },
  "kernelspec": {
   "display_name": "Python 3.8.10 64-bit (windows store)",
   "language": "python",
   "name": "python3"
  },
  "language_info": {
   "codemirror_mode": {
    "name": "ipython",
    "version": 3
   },
   "file_extension": ".py",
   "mimetype": "text/x-python",
   "name": "python",
   "nbconvert_exporter": "python",
   "pygments_lexer": "ipython3",
   "version": "3.8.10"
  },
  "orig_nbformat": 4
 },
 "nbformat": 4,
 "nbformat_minor": 2
}
