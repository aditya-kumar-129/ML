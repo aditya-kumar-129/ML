{
 "cells": [
  {
   "cell_type": "markdown",
   "metadata": {},
   "source": [
    "# **Model Measurement Analysis**\n",
    "\n",
    "# **Using any dataset and any classifier do the following:**\n",
    "\n",
    "**a)** Calculate TP, TN, FP and FN from sklearn library functions\n",
    "\n",
    "**b)** Calculate different metrics (Accuracy, Precision, Recall(Sensitivity), F1-Score, MCC, Specificity, Negative Predictive Value) by defining our own functions\n",
    "\n",
    "**c)** Get the sklearn metrics of these values\n",
    "\n",
    "**d)** Verify them by comparing with scikit-learn's library functions.\n",
    "\n",
    "**e)** Get the result of Confusion Matrix using sklearn\n",
    "\n",
    "**f)** Using sklearn, plot the ROC Curve of the probability values in our test data\n",
    "\n",
    "**g)** Using sklearn, plot the ROC Curve of random probabilities\n",
    "\n",
    "**h)** Calculate the AUC of our test data using sklearn\n",
    "\n",
    "**i)** Calculate the AUC of random probabilities using sklearn\n",
    "\n",
    "**j)** Interpret the results. Write the inference/analysis of each output. \n",
    "\n",
    "https://colab.research.google.com/drive/1Cgr6NyxTH0sH3Z8BHRIRFEgXrznD7_Qd?usp=sharing"
   ]
  },
  {
   "cell_type": "code",
   "execution_count": 210,
   "metadata": {},
   "outputs": [],
   "source": [
    "import numpy as np\n",
    "import matplotlib.pyplot as plt"
   ]
  },
  {
   "cell_type": "markdown",
   "metadata": {},
   "source": [
    "# **Dataset**\n",
    "Breast Cancer Dataset provided by sckit-learn in dataset module is used. \n",
    "*   Desscribe. this dataset\n",
    "*   Analyze it\n",
    "\n"
   ]
  },
  {
   "cell_type": "code",
   "execution_count": 211,
   "metadata": {},
   "outputs": [],
   "source": [
    "# In Python machine learning programming, we have software called scikit-learn. This software contains some small datasets that are very easy to access, one of which is the load_breast_cancer dataset.\n",
    "from sklearn.datasets import load_breast_cancer\n",
    "data = load_breast_cancer()\n",
    "# print(data.DESCR[:760])  # print short description"
   ]
  },
  {
   "cell_type": "markdown",
   "metadata": {},
   "source": [
    "# **Analysis of the Dataset**\n",
    "*   There are 569 instances \n",
    "*   Each instance has 30 attributes \n",
    "\n",
    "# **What are the targets classes i.e. types of cancer.?**\n",
    "Target Attribute Values are - **['malignant' 'benign']**\n",
    "\n",
    "This dataset is used for binary classification between two types of cancer(\"Malignant\" and \"Benign\").\n",
    "\n",
    "We will consider benign as positive class, and malignant as negative class. Therefore, \n",
    "*   **0 for is_not_benign(malignant)**\n",
    "*   **1 for is_benign**"
   ]
  },
  {
   "cell_type": "code",
   "execution_count": 212,
   "metadata": {},
   "outputs": [
    {
     "name": "stdout",
     "output_type": "stream",
     "text": [
      "Types of cancer (targets) are ['malignant' 'benign']\n",
      "Shape of features is (569, 30), and shape of target is (569,)\n"
     ]
    }
   ],
   "source": [
    "print(f\"Types of cancer (targets) are {data.target_names}\")\n",
    "X = data.data  # features\n",
    "y = data.target  # labels\n",
    "print(f\"Shape of features is {X.shape}, and shape of target is {y.shape}\")\n",
    "# print(\"Targets are: \", y)"
   ]
  },
  {
   "cell_type": "markdown",
   "metadata": {},
   "source": [
    "# **Split the data**\n",
    "Since we shouldn't train and test our model with the same dataset, it is always a good idea to split the data in three parts - train data, test data, and validation data.\n",
    "\n",
    "We won't require validation data here. \n",
    "We split the dataset into training and testing data\n",
    "*   200 examples for testing. Code : test_size=200 \n",
    "*   Rest, 369 examples for training"
   ]
  },
  {
   "cell_type": "code",
   "execution_count": 213,
   "metadata": {},
   "outputs": [
    {
     "name": "stdout",
     "output_type": "stream",
     "text": [
      "[1 1 0 0 0 1 1 1 0 1]\n"
     ]
    }
   ],
   "source": [
    "from sklearn.model_selection import train_test_split\n",
    "# test_size :- int represents the absolute number of test samples.\n",
    "X_train, X_test, y_train, y_test = train_test_split(X, y, test_size=200, random_state=0)\n",
    "# printing the value of y_train from begining till 10 index[excluding 10th index]\n",
    "print(y_train[:10])"
   ]
  },
  {
   "cell_type": "markdown",
   "metadata": {},
   "source": [
    "# **Analysis of Code:**\n",
    "\n",
    "**Classifier Used:** scikit's Support Vector Machines classifier for prediction. That is: sklearn.svm.\n",
    "\n"
   ]
  },
  {
   "cell_type": "code",
   "execution_count": 214,
   "metadata": {},
   "outputs": [],
   "source": [
    "# kernel{‘linear’, ‘poly’, ‘rbf’, ‘sigmoid’, ‘precomputed’} or callable, default=’rbf’ :- Specifies the kernel type to be used in the algorithm. If none is given, ‘rbf’ will be used. If a callable is given it is used to pre-compute the kernel matrix from data matrices; that matrix should be an array of shape (n_samples, n_samples).\n",
    "\n",
    "# probability bool, default=False :- Whether to enable probability estimates. This must be enabled prior to calling fit, will slow down that method as it internally uses 5-fold cross-validation, and predict_proba may be inconsistent with predict.\n",
    "\n",
    "# What does SVM SVC do?\n",
    "# The objective of a Linear SVC (Support Vector Classifier) is to fit to the data you provide, returning a \"best fit\" hyperplane that divides, or categorizes, your data.\n",
    "\n",
    "from sklearn.svm import SVC\n",
    "classifier = SVC(kernel='linear', probability=True, verbose=True)"
   ]
  },
  {
   "cell_type": "markdown",
   "metadata": {},
   "source": [
    "# **Analysis of Code:**\n",
    "*   fit/train the model on our training dataset.\n",
    "*   It trains quite fast since we are working with relatively small dataset."
   ]
  },
  {
   "cell_type": "code",
   "execution_count": 215,
   "metadata": {},
   "outputs": [
    {
     "name": "stdout",
     "output_type": "stream",
     "text": [
      "[LibSVM]"
     ]
    },
    {
     "data": {
      "text/html": [
       "<style>#sk-container-id-9 {color: black;background-color: white;}#sk-container-id-9 pre{padding: 0;}#sk-container-id-9 div.sk-toggleable {background-color: white;}#sk-container-id-9 label.sk-toggleable__label {cursor: pointer;display: block;width: 100%;margin-bottom: 0;padding: 0.3em;box-sizing: border-box;text-align: center;}#sk-container-id-9 label.sk-toggleable__label-arrow:before {content: \"▸\";float: left;margin-right: 0.25em;color: #696969;}#sk-container-id-9 label.sk-toggleable__label-arrow:hover:before {color: black;}#sk-container-id-9 div.sk-estimator:hover label.sk-toggleable__label-arrow:before {color: black;}#sk-container-id-9 div.sk-toggleable__content {max-height: 0;max-width: 0;overflow: hidden;text-align: left;background-color: #f0f8ff;}#sk-container-id-9 div.sk-toggleable__content pre {margin: 0.2em;color: black;border-radius: 0.25em;background-color: #f0f8ff;}#sk-container-id-9 input.sk-toggleable__control:checked~div.sk-toggleable__content {max-height: 200px;max-width: 100%;overflow: auto;}#sk-container-id-9 input.sk-toggleable__control:checked~label.sk-toggleable__label-arrow:before {content: \"▾\";}#sk-container-id-9 div.sk-estimator input.sk-toggleable__control:checked~label.sk-toggleable__label {background-color: #d4ebff;}#sk-container-id-9 div.sk-label input.sk-toggleable__control:checked~label.sk-toggleable__label {background-color: #d4ebff;}#sk-container-id-9 input.sk-hidden--visually {border: 0;clip: rect(1px 1px 1px 1px);clip: rect(1px, 1px, 1px, 1px);height: 1px;margin: -1px;overflow: hidden;padding: 0;position: absolute;width: 1px;}#sk-container-id-9 div.sk-estimator {font-family: monospace;background-color: #f0f8ff;border: 1px dotted black;border-radius: 0.25em;box-sizing: border-box;margin-bottom: 0.5em;}#sk-container-id-9 div.sk-estimator:hover {background-color: #d4ebff;}#sk-container-id-9 div.sk-parallel-item::after {content: \"\";width: 100%;border-bottom: 1px solid gray;flex-grow: 1;}#sk-container-id-9 div.sk-label:hover label.sk-toggleable__label {background-color: #d4ebff;}#sk-container-id-9 div.sk-serial::before {content: \"\";position: absolute;border-left: 1px solid gray;box-sizing: border-box;top: 0;bottom: 0;left: 50%;z-index: 0;}#sk-container-id-9 div.sk-serial {display: flex;flex-direction: column;align-items: center;background-color: white;padding-right: 0.2em;padding-left: 0.2em;position: relative;}#sk-container-id-9 div.sk-item {position: relative;z-index: 1;}#sk-container-id-9 div.sk-parallel {display: flex;align-items: stretch;justify-content: center;background-color: white;position: relative;}#sk-container-id-9 div.sk-item::before, #sk-container-id-9 div.sk-parallel-item::before {content: \"\";position: absolute;border-left: 1px solid gray;box-sizing: border-box;top: 0;bottom: 0;left: 50%;z-index: -1;}#sk-container-id-9 div.sk-parallel-item {display: flex;flex-direction: column;z-index: 1;position: relative;background-color: white;}#sk-container-id-9 div.sk-parallel-item:first-child::after {align-self: flex-end;width: 50%;}#sk-container-id-9 div.sk-parallel-item:last-child::after {align-self: flex-start;width: 50%;}#sk-container-id-9 div.sk-parallel-item:only-child::after {width: 0;}#sk-container-id-9 div.sk-dashed-wrapped {border: 1px dashed gray;margin: 0 0.4em 0.5em 0.4em;box-sizing: border-box;padding-bottom: 0.4em;background-color: white;}#sk-container-id-9 div.sk-label label {font-family: monospace;font-weight: bold;display: inline-block;line-height: 1.2em;}#sk-container-id-9 div.sk-label-container {text-align: center;}#sk-container-id-9 div.sk-container {/* jupyter's `normalize.less` sets `[hidden] { display: none; }` but bootstrap.min.css set `[hidden] { display: none !important; }` so we also need the `!important` here to be able to override the default hidden behavior on the sphinx rendered scikit-learn.org. See: https://github.com/scikit-learn/scikit-learn/issues/21755 */display: inline-block !important;position: relative;}#sk-container-id-9 div.sk-text-repr-fallback {display: none;}</style><div id=\"sk-container-id-9\" class=\"sk-top-container\"><div class=\"sk-text-repr-fallback\"><pre>SVC(kernel=&#x27;linear&#x27;, probability=True, verbose=True)</pre><b>In a Jupyter environment, please rerun this cell to show the HTML representation or trust the notebook. <br />On GitHub, the HTML representation is unable to render, please try loading this page with nbviewer.org.</b></div><div class=\"sk-container\" hidden><div class=\"sk-item\"><div class=\"sk-estimator sk-toggleable\"><input class=\"sk-toggleable__control sk-hidden--visually\" id=\"sk-estimator-id-9\" type=\"checkbox\" checked><label for=\"sk-estimator-id-9\" class=\"sk-toggleable__label sk-toggleable__label-arrow\">SVC</label><div class=\"sk-toggleable__content\"><pre>SVC(kernel=&#x27;linear&#x27;, probability=True, verbose=True)</pre></div></div></div></div></div>"
      ],
      "text/plain": [
       "SVC(kernel='linear', probability=True, verbose=True)"
      ]
     },
     "execution_count": 215,
     "metadata": {},
     "output_type": "execute_result"
    }
   ],
   "source": [
    "classifier.fit(X_train, y_train)"
   ]
  },
  {
   "cell_type": "markdown",
   "metadata": {},
   "source": [
    "# **Analysis of Code &. Output**\n",
    "*   Save the prediction results both as ***probability*** and as ***classes***.\n",
    "*   **y_preds** is a *1D vector* of one of {0, 1} values, denoting predictions as malignant and benign, respectively.\n",
    "*   **y_test** is a 1D vector of one of (0,1) values of the 200 samples of test data \n",
    "*   **y_proba** is a *2D vector*, where for each example, it contains a vector of length 2,[prob. of malignant, prob. of benign]"
   ]
  },
  {
   "cell_type": "code",
   "execution_count": 216,
   "metadata": {},
   "outputs": [
    {
     "name": "stdout",
     "output_type": "stream",
     "text": [
      "Prediction as class - malignanat or benign  [0 1 1 1 1]\n",
      "Test Data are:  [0 1 1 1 1]\n",
      "Probability of malignant & probability of benign.  [[9.47841240e-01 5.21587597e-02]\n",
      " [8.17697286e-02 9.18230271e-01]\n",
      " [1.23569853e-02 9.87643015e-01]\n",
      " [1.76891994e-01 8.23108006e-01]\n",
      " [9.28816272e-06 9.99990712e-01]]\n"
     ]
    }
   ],
   "source": [
    "# Python predict() function enables us to predict the labels of the data values on the basis of the trained model.\n",
    "# The predict() function accepts only a single argument which is usually the data to be tested.\n",
    "# It returns the labels of the data passed as argument based upon the learned or trained data obtained from the model.\n",
    "# Thus, the predict() function works on top of the trained model and makes use of the learned label to map and predict the labels for the data to be tested.\n",
    "y_preds = classifier.predict(X_test)  \n",
    "\n",
    "# predict_proba gives you the probabilities for the target (0 and 1 in your case) in array form.\n",
    "y_proba = classifier.predict_proba(X_test) \n",
    "print(\"Prediction as class - malignanat or benign \", y_preds[:5])\n",
    "print(\"Test Data are: \", y_test[:5])\n",
    "print(\"Probability of malignant & probability of benign. \", y_proba[:5])"
   ]
  },
  {
   "cell_type": "markdown",
   "metadata": {},
   "source": [
    "# **y_proba** is reshaped into a 1D vector denoting the probability of having benign cancer."
   ]
  },
  {
   "cell_type": "code",
   "execution_count": 217,
   "metadata": {},
   "outputs": [],
   "source": [
    "# # print(y_proba)   # here it is in 2d form\n",
    "# y_proba = y_proba[:, 1].reshape((y_proba.shape[0],))\n",
    "# print(\"2D to 1D reshaped Probability of benign. \", y_proba[:5])"
   ]
  },
  {
   "cell_type": "markdown",
   "metadata": {},
   "source": [
    "# **Analysis of Code &. Output**\n",
    "\n",
    "\n",
    "In the binary case, we can extract TN, FP, FN, TP as follows:\n",
    "\n",
    ">***tn, fp, fn, tp = confusion_matrix([0, 1, 0, 1], [1, 1, 1, 0]).ravel()***\n",
    "\n",
    ">***(tn, fp, fn, tp) = (0, 2, 1, 1)***\n",
    "\n",
    "**Confusion Matrix**\n",
    "*   Calculate confusion matrix of the predictions\n",
    "*   Implemented in Scikit-learn's sklearn.metrics.confusion_matrix."
   ]
  },
  {
   "cell_type": "code",
   "execution_count": 218,
   "metadata": {},
   "outputs": [
    {
     "name": "stdout",
     "output_type": "stream",
     "text": [
      "True Negatives 70\n",
      "True Positives 124\n",
      "False Positives 3\n",
      "False Negatives 3\n",
      "Confusion Matrix we want is: \n",
      " [[124   3]\n",
      " [  3  70]]\n"
     ]
    }
   ],
   "source": [
    "# y_true:- array-like of shape (n_samples,) :- Ground truth (correct) target values.\n",
    "# y_pred :- array-like of shape (n_samples,) :- Estimated targets as returned by a classifier.\n",
    "# labels :- array-like of shape (n_classes), default=None :- List of labels to index the matrix. This may be used to reorder or select a subset of labels.\n",
    "# The numpy.ravel() functions returns contiguous flattened array(1D array with all the input-array elements and with the same type as it). A copy is made only if needed.\n",
    "from sklearn.metrics import confusion_matrix\n",
    "TN, FP, FN, TP = confusion_matrix(list(y_test), list(y_preds), labels=[0, 1]).ravel()\n",
    "print(\"True Negatives\", TN)\n",
    "print(\"True Positives\", TP)\n",
    "print(\"False Positives\", FP)\n",
    "print(\"False Negatives\", FN)\n",
    "\n",
    "# Dont miss this declaration. Later used to calculate diferent metrics used for checking whether it is a good model or not.\n",
    "results = {}  \n",
    "\n",
    "# Note to change the labels from the default 0,1 to 1,0\n",
    "# Basically by making the label=[1,0]\n",
    "# we are making the confusion matrix as(the way we are used to solve in theory clasess)\n",
    "# TP  FN\n",
    "# FP  TN\n",
    "\n",
    "# we will use the varible while plotting the confusion matrix hanece store it in some variable\n",
    "conf = confusion_matrix(y_test, y_preds, labels=[1, 0])\n",
    "print(\"Confusion Matrix we want is: \\n\", conf)\n"
   ]
  },
  {
   "cell_type": "markdown",
   "metadata": {},
   "source": [
    "# **PLOTTING THE CONFUSION MATRIX**"
   ]
  },
  {
   "cell_type": "code",
   "execution_count": 219,
   "metadata": {},
   "outputs": [
    {
     "data": {
      "text/plain": [
       "Text(0.5, 1.0, 'Confusion Matrix')"
      ]
     },
     "execution_count": 219,
     "metadata": {},
     "output_type": "execute_result"
    },
    {
     "data": {
      "image/png": "[encoded data removed]",
      "text/plain": [
       "<Figure size 432x288 with 2 Axes>"
      ]
     },
     "metadata": {
      "needs_background": "light"
     },
     "output_type": "display_data"
    }
   ],
   "source": [
    "from sklearn.metrics import ConfusionMatrixDisplay\n",
    "disp = ConfusionMatrixDisplay(confusion_matrix=conf)\n",
    "disp.plot(cmap=plt.cm.OrRd)\n",
    "plt.title(\"Confusion Matrix\")"
   ]
  },
  {
   "cell_type": "markdown",
   "metadata": {},
   "source": [
    "# **Different metrics that are used to evaluate the model** \n",
    " >**Calculate Accuracy** :- number of examples correctly predicted / total number of examples\n",
    "\n",
    "![alt text](https://wikimedia.org/api/rest_v1/media/math/render/svg/c72ec21ef2505c2d376e96197637fc64f75e5891)\n",
    "\n",
    "> **Calculate Sensitivity or Recall or True Positive Rate(TPR)** :- number of samples actually and predicted as  `Positive` / total number of samples actually `Positive`  \n",
    "\n",
    "  \n",
    "![alt text](https://wikimedia.org/api/rest_v1/media/math/render/svg/64d5540cbadeb83f864d7a731b7ab43cccd0f353)\n",
    "\n",
    "> **Calculate Specificity/True Negative Rate(TNR)** :- number of samples actually and predicted as  `Negative` / total number of samples actually  `Negative`  \n",
    " \n",
    "![alt text](https://wikimedia.org/api/rest_v1/media/math/render/svg/aac65b6586cb61c1268403895012c2a8f19b0c5e)\n",
    "\n",
    "> **Calculate Precision/Positive Predictive Value(PPV)** :- number of samples actually and predicted as  `Positive` / total number of samples predicted as `Positive`  \n",
    "\n",
    "![alt text](https://wikimedia.org/api/rest_v1/media/math/render/svg/699fcdb880b7f6a92742bc0845b8b60b59806a98)\n",
    "\n",
    "> **Calculate Negative Predictive Value(NPV)** :- number of samples actually and predicted as  `Negative` / total number of samples predicted as `Negative` \n",
    "   \n",
    "![alt text](https://wikimedia.org/api/rest_v1/media/math/render/svg/b6da0f59faffbc1704974e97847ab4fa599f5521)\n",
    "\n",
    "> **F1-Score** :- Harmonic Mean of Precision and Recall.  \n",
    "![alt text](https://wikimedia.org/api/rest_v1/media/math/render/svg/5663ca95d471868169c4e4ea57c936f1b6f4a588)\n",
    "\n",
    "> **Matthew's correlation coefficient(MCC)**\n",
    "MCC = (TP*TN – FP*FN) / √(TP+FP)(TP+FN)(TN+FP)(TN+FN)\n",
    "\n",
    "Matthew's coefficient range between `[-1, 1]`. `0` usually means totally random predictions. `1` means a perfect classifier, while a negative value (`[-1, 0)`) suggests a negative correlation between predictions and actual values.   \n",
    "Here' the formual for MCC  \n",
    "![alt text](https://wikimedia.org/api/rest_v1/media/math/render/svg/5caa90fc15105b74b59a30bbc9cc2e5bd43a13b7)\n"
   ]
  },
  {
   "cell_type": "code",
   "execution_count": 220,
   "metadata": {},
   "outputs": [
    {
     "name": "stdout",
     "output_type": "stream",
     "text": [
      "Accuracy is  0.970\n",
      "Recall is  0.976\n",
      "Sensitivity is  0.976\n",
      "True Positive Rate is  0.976\n",
      "False Negative Rate is  0.959\n",
      "Precision is  0.976\n",
      "NPV is  0.959\n",
      "F1 score is  0.976\n",
      "MCC is  0.935\n"
     ]
    }
   ],
   "source": [
    "metric = \"Accuracy\"\n",
    "results[metric] = (TP + TN) / (TP + TN + FP + FN)\n",
    "print(f\"Accuracy is {results[metric]: .3f}\") \n",
    "\n",
    "metric = \"Recall\"\n",
    "results[metric] = TP / (TP + FN)\n",
    "print(f\"{metric} is {results[metric]: .3f}\")\n",
    "\n",
    "metric = \"Sensitivity\"\n",
    "results[metric] = TP / (TP + FN)\n",
    "print(f\"{metric} is {results[metric]: .3f}\")\n",
    "\n",
    "metric = \"True Positive Rate\"\n",
    "results[metric] = TP / (TP + FN)\n",
    "print(f\"{metric} is {results[metric]: .3f}\")\n",
    "\n",
    "metric = \"False Negative Rate\"\n",
    "results[metric] = TN / (TN + FP)\n",
    "print(f\"{metric} is {results[metric]: .3f}\")\n",
    "\n",
    "metric = \"Precision\"\n",
    "results[metric] = TP / (TP + FP)\n",
    "print(f\"{metric} is {results[metric]: .3f}\")\n",
    "\n",
    "# Not in the syllabus\n",
    "metric = \"NPV\"\n",
    "results[metric] = TN / (TN + FN)\n",
    "print(f\"{metric} is {results[metric]: .3f}\")\n",
    "\n",
    "metric = \"F1 score\"\n",
    "results[metric] = 2 / (1 / results[\"Precision\"] + 1 / results[\"Recall\"])\n",
    "print(f\"{metric} is {results[metric]: .3f}\")\n",
    "\n",
    "metric = \"MCC\"\n",
    "num = TP * TN - FP * FN\n",
    "den = np.sqrt((TP + FP) * (TP + FN) * (TN + FP) * (TN + FN))\n",
    "results[metric] = num / den\n",
    "print(f\"{metric} is {results[metric]: .3f}\")"
   ]
  },
  {
   "cell_type": "markdown",
   "metadata": {},
   "source": [
    "#**Comparing these calculated metrics with scikit-learn**\n",
    "\n",
    "**Analysis**: These values match with the values calculated from `scikit-learn`'s functions.\n"
   ]
  },
  {
   "cell_type": "code",
   "execution_count": 221,
   "metadata": {},
   "outputs": [
    {
     "name": "stdout",
     "output_type": "stream",
     "text": [
      "Calculated and scikit-learn Accuracy:                           0.970,  0.970\n",
      "Calculated and scikit-learn Precision score:                    0.976,  0.976\n",
      "Calculated and scikit-learn Recall score:                       0.976,  0.976\n",
      "Calculated and scikit-learn F1 score:                           0.976,  0.976\n",
      "Calculated and scikit-learn Matthew's correlation coefficient:  0.935,  0.935\n"
     ]
    }
   ],
   "source": [
    "from sklearn.metrics import accuracy_score, precision_score, recall_score, f1_score, matthews_corrcoef\n",
    "\n",
    "print(f\"Calculated and scikit-learn Accuracy:                          {results['Accuracy']: .3f}, {accuracy_score(y_test, y_preds): .3f}\")\n",
    "print(f\"Calculated and scikit-learn Precision score:                   {results['Precision']: .3f}, {precision_score(y_test, y_preds): .3f}\")\n",
    "print(f\"Calculated and scikit-learn Recall score:                      {results['Recall']: .3f}, {recall_score(y_test, y_preds): .3f}\")\n",
    "print(f\"Calculated and scikit-learn F1 score:                          {results['F1 score']: .3f}, {f1_score(y_test, y_preds): .3f}\")\n",
    "print(f\"Calculated and scikit-learn Matthew's correlation coefficient: {results['MCC']: .3f}, {matthews_corrcoef(y_test, y_preds): .3f}\")"
   ]
  },
  {
   "cell_type": "markdown",
   "metadata": {},
   "source": [
    "# **ROC curve (Receiver Operating Characteristic curve)**\n",
    "\n",
    "A receiver operating characteristic curve, i.e. ROC curve, is a graphical plot that illustrates the diagnostic ability of a binary classifier system as its discrimination threshold is varied.\n",
    "\n",
    "The ROC curve is created by plotting the True Positive Rate (TPR) against the False Positive Rate (FPR) ***at various threshold settings.***\n",
    "\n",
    "**Analysis**: The above is the ROC curve for the Breast Cancer Dataset.\n",
    "\n",
    "1. The peak towards left-most corner means near perfect classifier\n",
    "\n",
    "2. Random prediction will have the curve as the blue dotted straight line.\n",
    "\n",
    "3. This ROC curve tells us that our model is nearly perfect classifier, with high accuracy!\n",
    "\n",
    "# **AUC: Area under the Curve**\n",
    "\n",
    "It is the area under the ROC curve formed by the predictions.\n",
    "\n",
    "A totally random prediction will have AUC score 0.5, while a perfect classifier will have AUC score of 1.\n",
    "\n",
    "Our Result is 0.9872 which indicates a good classifier!"
   ]
  },
  {
   "cell_type": "code",
   "execution_count": 222,
   "metadata": {},
   "outputs": [
    {
     "data": {
      "image/png": "[encoded data removed]",
      "text/plain": [
       "<Figure size 432x288 with 1 Axes>"
      ]
     },
     "metadata": {
      "needs_background": "light"
     },
     "output_type": "display_data"
    }
   ],
   "source": [
    "from sklearn.metrics import RocCurveDisplay , auc , roc_curve\n",
    "fpr, tpr, thresholds = roc_curve(y_test, y_preds)\n",
    "roc_auc = auc(fpr, tpr)\n",
    "display = RocCurveDisplay(fpr=fpr, tpr=tpr, roc_auc=roc_auc)\n",
    "display.plot()"
   ]
  }
 ],
 "metadata": {
  "interpreter": {
   "hash": "6f8f3054a7a12fe7352058eccdef04b8bf49ea888ba7350a6a9ec316568019a1"
  },
  "kernelspec": {
   "display_name": "Python 3.8.10 64-bit (windows store)",
   "language": "python",
   "name": "python3"
  },
  "language_info": {
   "codemirror_mode": {
    "name": "ipython",
    "version": 3
   },
   "file_extension": ".py",
   "mimetype": "text/x-python",
   "name": "python",
   "nbconvert_exporter": "python",
   "pygments_lexer": "ipython3",
   "version": "3.8.10"
  },
  "orig_nbformat": 4
 },
 "nbformat": 4,
 "nbformat_minor": 2
}
