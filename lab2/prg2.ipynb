{
 "cells": [
  {
   "cell_type": "markdown",
   "metadata": {},
   "source": [
    "\n",
    "Supervised Learning Algorithms- Linear Regression(Multi-Variant):\n",
    "Consider a dataset from UCI repository.\n",
    "Create a Multiple Linear Regression model using the training data set.\n",
    "Predict the scores on the test data and output RMSE and R Squared Score.\n",
    "Include appropriate code snippets to visualize the model.\n",
    "Interpret the result.\n",
    "Write the Inference.\n",
    "Step 1: Reading Data Using Pandas\n",
    "Display first five and last five records in the dataset\n",
    "\n",
    "Check the shape of the DataFrame (rows, columns)"
   ]
  },
  {
   "cell_type": "code",
   "execution_count": null,
   "metadata": {},
   "outputs": [],
   "source": [
    "import pandas as pd\n",
    "import numpy as np\n",
    "import matplotlib.pyplot as plt\n",
    "data = pd.read_csv(\"Advertising.csv\")\n",
    "data.head()"
   ]
  },
  {
   "cell_type": "code",
   "execution_count": null,
   "metadata": {},
   "outputs": [],
   "source": [
    "from sklearn.linear_model import LinearRegression\n",
    "from sklearn.model_selection import train_test_split\n",
    "from sklearn.metrics import mean_absolute_error , mean_squared_error"
   ]
  },
  {
   "cell_type": "markdown",
   "metadata": {},
   "source": [
    "Step 2: Interpret the data\n",
    "What are the features?\n",
    "\n",
    "1) TV: advertising dollars spent on TV for a single product in a given market (in thousands of dollars)\n",
    "\n",
    "2) Radio: advertising dollars spent on Radio\n",
    "\n",
    "3) Newspaper: advertising dollars spent on Newspaper\n",
    "\n",
    "What is the response?\n",
    "\n",
    "Sales: sales of a single product in a given market (in thousands of items)\n",
    "\n",
    "Inference\n",
    "\n",
    "Because the response variable is continuous, this is a regression problem. There are 200 observations (represented by the rows), and each observation is a single market."
   ]
  },
  {
   "cell_type": "markdown",
   "metadata": {},
   "source": [
    "Step 3: Process Dataset & Apply Linear Regression\n",
    "Pre-process by dropping unwanted columns\n",
    "Split Dataset into test and train set"
   ]
  },
  {
   "cell_type": "code",
   "execution_count": null,
   "metadata": {},
   "outputs": [],
   "source": [
    "Xs = data.drop(['Unnamed: 0'], axis=1)\n",
    "y = data['sales'].values.reshape(-1, 1)\n",
    "#x_train, x_test, y_train, y_test = train_test_split(Xs,y,test_size = 0.3) #Train is 70% and Test is 30%\n",
    "\n",
    "# random_stateint, RandomState instance or None, default=None\n",
    "# Controls the shuffling applied to the data before applying the split. Pass an int for reproducible output across multiple function calls.\n",
    "\n",
    "# default split is 75% for training and 25% for testing\n",
    "x_train, x_test, y_train, y_test = train_test_split(Xs, y, random_state=1)\n",
    "# 200 records : 75% train = 150 and 25% test = 50\n",
    "reg = LinearRegression()\n",
    "reg.fit(x_train, y_train)\n"
   ]
  },
  {
   "cell_type": "markdown",
   "metadata": {},
   "source": [
    "Step 4: Display Values of Slope and Intercept and Infer from it\n",
    "Linear Model is: y=2.88+0.0466×TV+0.179×Radio+0.00345×Newspaper\n",
    "\n",
    "This is a Multi-Variant Linear Regression Model Equation.\n"
   ]
  },
  {
   "cell_type": "code",
   "execution_count": null,
   "metadata": {},
   "outputs": [],
   "source": [
    "print(\"Slope: \",reg.coef_)\n",
    "print(\"Intercept: \",reg.intercept_)\n",
    "print(\"The linear model is: Y = {:.5} + {:.5}*TV + {:.5}*radio + {:.5}*newspaper\".format(reg.intercept_[0], reg.coef_[0][0], reg.coef_[0][1], reg.coef_[0][2]))"
   ]
  },
  {
   "cell_type": "markdown",
   "metadata": {},
   "source": [
    "Step 5: Make Predictions"
   ]
  },
  {
   "cell_type": "code",
   "execution_count": null,
   "metadata": {},
   "outputs": [],
   "source": [
    "# make predictions on the testing set\n",
    "y_pred = reg.predict(x_test)\n",
    "# print(y_pred)"
   ]
  },
  {
   "cell_type": "markdown",
   "metadata": {},
   "source": [
    "Predict the sales when the amount spent on TV , Radio and Newspaper are given given"
   ]
  },
  {
   "cell_type": "code",
   "execution_count": null,
   "metadata": {},
   "outputs": [],
   "source": [
    "def myfunc(TV, radio, newspaper):\n",
    "  Y = 2.877 + 0.046565*TV + 0.17916*radio + 0.0034505*newspaper\n",
    "  return Y\n",
    "predictedsales = myfunc(39.5, 41.1, 10.8)\n",
    "print(\"Predicted Sales is \", predictedsales)"
   ]
  },
  {
   "cell_type": "markdown",
   "metadata": {},
   "source": [
    "Predict the sales when the amount spent on TV and Radio are given given"
   ]
  },
  {
   "cell_type": "code",
   "execution_count": null,
   "metadata": {},
   "outputs": [],
   "source": [
    "def myfunc(TV, radio):\n",
    "  Y = Y = 2.927 + 0.0466*TV + 0.1811*radio\n",
    "  return Y\n",
    "predictedsales = myfunc(39.5, 41.1)\n",
    "print(\"Predicted Sales is \", predictedsales)"
   ]
  },
  {
   "cell_type": "markdown",
   "metadata": {},
   "source": [
    "Step 6: Model Evaluation Metrics for Regression\n",
    "Note: Evaluation metrics for classification problems, such as accuracy, are not useful for regression problems. Instead, we need evaluation metrics designed for comparing continuous values.\n",
    "\n",
    "Three common evaluation metrics for regression problems are:"
   ]
  },
  {
   "cell_type": "markdown",
   "metadata": {},
   "source": [
    "Comparing these metrics:\n",
    "\n",
    "MAE is the easiest to understand, because it's the average error.\n",
    "\n",
    "MSE is more popular than MAE, because MSE \"punishes\" larger errors.\n",
    "\n",
    "RMSE is even more popular than MSE, because RMSE is interpretable in the \"y\" units. Easier to put in context as it's the same units as our response variable\n",
    "\n",
    "Finding the MAE,MSE,RMSE when all the parameters are considered"
   ]
  },
  {
   "cell_type": "code",
   "execution_count": null,
   "metadata": {},
   "outputs": [],
   "source": [
    "predictions = reg.predict(x_test)\n",
    "mae = mean_absolute_error(y_test, predictions)\n",
    "print(\"Mean Absolute Error = \", mae)\n",
    "\n",
    "mse = mean_squared_error(y_test, predictions)\n",
    "print(\"Mean Squared Error = \", mse)\n",
    "\n",
    "rmse = np.sqrt(mean_squared_error(y_test, predictions))\n",
    "print(\"Root Mean Squared Error = \", rmse)\n",
    "\n",
    "reg.score(Xs, y)  # Return the coefficient of determination of the prediction."
   ]
  },
  {
   "cell_type": "markdown",
   "metadata": {},
   "source": [
    "Step : Visualize the data\n",
    "Using seaborn package as it has advanced visualization features"
   ]
  },
  {
   "cell_type": "code",
   "execution_count": null,
   "metadata": {},
   "outputs": [],
   "source": [
    "# conventional way to import seaborn\n",
    "import seaborn as sns\n",
    "\n",
    "# allow plots to appear within the notebook\n",
    "%matplotlib inline\n",
    "\n",
    "# visualize the relationship between the features and the response using scatterplots\n",
    "# this produces pairs of scatterplot as shown\n",
    "# use aspect= to control the size of the graphs\n",
    "# use kind='reg' to plot linear regression on the graph\n",
    "\n",
    "# {x, y}_varslists of variable names :- Variables within data to use separately for the rows and columns of the figure; i.e. to make a non-square plot.\n",
    "# kind{‘scatter’, ‘kde’, ‘hist’, ‘reg’} :- Kind of plot to make.\n",
    "\n",
    "sns.pairplot(data, x_vars=['TV', 'radio', 'newspaper'], y_vars='sales')\n"
   ]
  },
  {
   "cell_type": "markdown",
   "metadata": {},
   "source": [
    "Previously predictions has been done for all the variables\n",
    "Below represent the prediction and all other stuffs for data that conatins only TV and RADIO"
   ]
  },
  {
   "cell_type": "code",
   "execution_count": null,
   "metadata": {},
   "outputs": [],
   "source": [
    "feature_cols = ['TV', 'radio']  # create a Python list of feature names\n",
    "# use the list to select a subset of the original DataFrame\n",
    "X = data[feature_cols]\n",
    "Y = data.sales\n",
    "X_train, X_test, Y_train, Y_test = train_test_split(X, Y, random_state=1)\n",
    "reg.fit(X_train, Y_train)\n",
    "\n",
    "print(\"Slope: \", reg.coef_)\n",
    "print(\"Intercept: \", reg.intercept_)\n",
    "print(\"The linear model is: Y = 2.927 + 0.0466*TV + 0.1811*radio\")\n",
    "\n",
    "# make predictions on the testing set\n",
    "Y_pred = reg.predict(X_test)"
   ]
  },
  {
   "cell_type": "code",
   "execution_count": null,
   "metadata": {},
   "outputs": [],
   "source": [
    "import seaborn as sns\n",
    "%matplotlib inline\n",
    "sns.pairplot(data, x_vars=['TV', 'radio'], y_vars='sales')"
   ]
  },
  {
   "cell_type": "code",
   "execution_count": null,
   "metadata": {},
   "outputs": [],
   "source": [
    "predictions = reg.predict(X_test)\n",
    "mae = mean_absolute_error(Y_test, predictions)\n",
    "print(\"Mean Absolute Error = \", mae)\n",
    "\n",
    "mae = mean_squared_error(Y_test, predictions)\n",
    "print(\"Mean Absolute Error = \", mae)\n",
    "\n",
    "rmse = np.sqrt(mean_squared_error(Y_test, Y_pred))\n",
    "print(\"Root Mean Squared Error = \", rmse)\n",
    "\n",
    "reg.score(X, y)"
   ]
  },
  {
   "cell_type": "markdown",
   "metadata": {},
   "source": [
    "Inference:\n",
    "The RMSE decreased when we removed Newspaper from the model. (Error is something we want to minimize, so a lower number for RMSE is better.\n",
    "\n",
    "Thus, it is unlikely that this feature (Newspaper)is useful for predicting Sales, and should be removed from the model."
   ]
  }
 ],
 "metadata": {
  "interpreter": {
   "hash": "6f8f3054a7a12fe7352058eccdef04b8bf49ea888ba7350a6a9ec316568019a1"
  },
  "kernelspec": {
   "display_name": "Python 3.8.10 64-bit (windows store)",
   "language": "python",
   "name": "python3"
  },
  "language_info": {
   "name": "python",
   "version": "3.8.10"
  },
  "orig_nbformat": 4
 },
 "nbformat": 4,
 "nbformat_minor": 2
}
