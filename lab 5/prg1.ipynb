{
 "cells": [
  {
   "cell_type": "markdown",
   "metadata": {},
   "source": [
    "# **Loading Dataset**\n",
    "\n",
    "First load the required HR dataset using pandas’ read CSV function. \n",
    "The dataset has 14999 rows and 10 columns \n",
    "\n",
    "You can run the program on google colab by taping on the link :- https://colab.research.google.com/drive/1Sb1j7MFhGLAtwLSrqju99Y7lJ_4fk5gO?usp=sharing"
   ]
  },
  {
   "cell_type": "code",
   "execution_count": 59,
   "metadata": {},
   "outputs": [
    {
     "data": {
      "text/html": [
       "<div>\n",
       "<style scoped>\n",
       "    .dataframe tbody tr th:only-of-type {\n",
       "        vertical-align: middle;\n",
       "    }\n",
       "\n",
       "    .dataframe tbody tr th {\n",
       "        vertical-align: top;\n",
       "    }\n",
       "\n",
       "    .dataframe thead th {\n",
       "        text-align: right;\n",
       "    }\n",
       "</style>\n",
       "<table border=\"1\" class=\"dataframe\">\n",
       "  <thead>\n",
       "    <tr style=\"text-align: right;\">\n",
       "      <th></th>\n",
       "      <th>satisfaction_level</th>\n",
       "      <th>last_evaluation</th>\n",
       "      <th>number_project</th>\n",
       "      <th>average_montly_hours</th>\n",
       "      <th>time_spend_company</th>\n",
       "      <th>Work_accident</th>\n",
       "      <th>left</th>\n",
       "      <th>promotion_last_5years</th>\n",
       "      <th>sales</th>\n",
       "      <th>salary</th>\n",
       "    </tr>\n",
       "  </thead>\n",
       "  <tbody>\n",
       "    <tr>\n",
       "      <th>0</th>\n",
       "      <td>0.38</td>\n",
       "      <td>0.53</td>\n",
       "      <td>2</td>\n",
       "      <td>157</td>\n",
       "      <td>3</td>\n",
       "      <td>0</td>\n",
       "      <td>1</td>\n",
       "      <td>0</td>\n",
       "      <td>sales</td>\n",
       "      <td>low</td>\n",
       "    </tr>\n",
       "    <tr>\n",
       "      <th>1</th>\n",
       "      <td>0.80</td>\n",
       "      <td>0.86</td>\n",
       "      <td>5</td>\n",
       "      <td>262</td>\n",
       "      <td>6</td>\n",
       "      <td>0</td>\n",
       "      <td>1</td>\n",
       "      <td>0</td>\n",
       "      <td>sales</td>\n",
       "      <td>medium</td>\n",
       "    </tr>\n",
       "    <tr>\n",
       "      <th>2</th>\n",
       "      <td>0.11</td>\n",
       "      <td>0.88</td>\n",
       "      <td>7</td>\n",
       "      <td>272</td>\n",
       "      <td>4</td>\n",
       "      <td>0</td>\n",
       "      <td>1</td>\n",
       "      <td>0</td>\n",
       "      <td>sales</td>\n",
       "      <td>medium</td>\n",
       "    </tr>\n",
       "    <tr>\n",
       "      <th>3</th>\n",
       "      <td>0.72</td>\n",
       "      <td>0.87</td>\n",
       "      <td>5</td>\n",
       "      <td>223</td>\n",
       "      <td>5</td>\n",
       "      <td>0</td>\n",
       "      <td>1</td>\n",
       "      <td>0</td>\n",
       "      <td>sales</td>\n",
       "      <td>low</td>\n",
       "    </tr>\n",
       "    <tr>\n",
       "      <th>4</th>\n",
       "      <td>0.37</td>\n",
       "      <td>0.52</td>\n",
       "      <td>2</td>\n",
       "      <td>159</td>\n",
       "      <td>3</td>\n",
       "      <td>0</td>\n",
       "      <td>1</td>\n",
       "      <td>0</td>\n",
       "      <td>sales</td>\n",
       "      <td>low</td>\n",
       "    </tr>\n",
       "  </tbody>\n",
       "</table>\n",
       "</div>"
      ],
      "text/plain": [
       "   satisfaction_level  last_evaluation  number_project  average_montly_hours  \\\n",
       "0                0.38             0.53               2                   157   \n",
       "1                0.80             0.86               5                   262   \n",
       "2                0.11             0.88               7                   272   \n",
       "3                0.72             0.87               5                   223   \n",
       "4                0.37             0.52               2                   159   \n",
       "\n",
       "   time_spend_company  Work_accident  left  promotion_last_5years  sales  \\\n",
       "0                   3              0     1                      0  sales   \n",
       "1                   6              0     1                      0  sales   \n",
       "2                   4              0     1                      0  sales   \n",
       "3                   5              0     1                      0  sales   \n",
       "4                   3              0     1                      0  sales   \n",
       "\n",
       "   salary  \n",
       "0     low  \n",
       "1  medium  \n",
       "2  medium  \n",
       "3     low  \n",
       "4     low  "
      ]
     },
     "execution_count": 59,
     "metadata": {},
     "output_type": "execute_result"
    }
   ],
   "source": [
    "import numpy as np\n",
    "import pandas as pd\n",
    "import matplotlib.pyplot as plt\n",
    "\n",
    "data = pd.read_csv('HR_dataSet.csv')\n",
    "data.head()"
   ]
  },
  {
   "cell_type": "markdown",
   "metadata": {},
   "source": [
    "# **Preprocessing: Label Encoding**\n",
    "\n",
    "*   Many Machine learning algorithms process numerical input data.\n",
    "*   Categorical columns need to be represented in a numerical column\n",
    "*   To encode Categorical data, map each value to a number. \n",
    ">   **E.g.** Salary column’s value can be represented as \n",
    ">        low:0\n",
    ">        medium:1\n",
    ">        high:2\n",
    "\n",
    "This process is known as **label encoding**. In sklearn, this is done using **LabelEncoder**\n",
    "\n",
    "The preprocessing module is imported and the LabelEncoder object is created. The categorical **“salary”** and **“Departments“** column is transformed into the numeric column using the LabelEncoder object using **fit_transform** function."
   ]
  },
  {
   "cell_type": "code",
   "execution_count": 60,
   "metadata": {},
   "outputs": [
    {
     "name": "stdout",
     "output_type": "stream",
     "text": [
      "['sales' 'accounting' 'hr' 'technical' 'support' 'management' 'IT'\n",
      " 'product_mng' 'marketing' 'RandD']\n",
      "[7 2 3 9 8 4 0 6 5 1]\n"
     ]
    },
    {
     "data": {
      "text/plain": [
       "array(['sales', 'accounting', 'hr', 'technical', 'support', 'management',\n",
       "       'IT', 'product_mng', 'marketing', 'RandD', 7, 2, 3, 9, 8, 4, 0, 6,\n",
       "       5, 1], dtype=object)"
      ]
     },
     "execution_count": 60,
     "metadata": {},
     "output_type": "execute_result"
    }
   ],
   "source": [
    "from sklearn.preprocessing import LabelEncoder\n",
    "le = LabelEncoder()\n",
    "\n",
    "# Converting string labels into numbers since these two columns contain only string datatype values\n",
    "# This leads to the appending of new columns in the dataset\n",
    "# you can check it by print(data.shape) print(data.columns)\n",
    "\n",
    "data['Encoded Salary'] = le.fit_transform(data['salary'])\n",
    "data['Dept'] = le.fit_transform(data['sales'])\n",
    "# Displaying to see the transformation\n",
    "# print(data[['Encoded Salary','Dept']])\n",
    "\n",
    "# The unique() function is used to find the unique elements of an array. Returns the sorted unique elements of an array.\n",
    "print(data.sales.unique())\n",
    "print(data.Dept.unique())\n",
    "\n",
    "# numpy.ravel(a, order='C') :- Return a contiguous flattened array.\n",
    "# ‘K’ means to read the elements in the order they occur in memory, except for reversing the data when strides are negative.\n",
    "pd.unique(data[['sales', 'Dept']].values.ravel('K'))"
   ]
  },
  {
   "cell_type": "markdown",
   "metadata": {},
   "source": [
    "# **Split the dataset**\n",
    "\n",
    "**Aim:** To assess the model performance, the dataset needs to be split into train and test set. \n",
    "\n",
    "**Function Used:** Let’s split dataset by using function **train_test_split()**\n",
    "\n",
    "There are 3 parameters \n",
    ">        features\n",
    ">        target\n",
    ">        test_set size"
   ]
  },
  {
   "cell_type": "code",
   "execution_count": 61,
   "metadata": {},
   "outputs": [],
   "source": [
    "# Spliting data into Features\n",
    "# insttead of 'sales', 'salary' we have used 'Dept' and 'Encoded Salary'\n",
    "from sklearn.model_selection import train_test_split\n",
    "X = data[['satisfaction_level','last_evaluation','number_project','average_montly_hours','time_spend_company', 'Work_accident','promotion_last_5years','Dept','Encoded Salary']]\n",
    "y = data['left']\n",
    "\n",
    "X_train, X_test, y_train, y_test = train_test_split(X, y, test_size=0.2, random_state=42)"
   ]
  },
  {
   "cell_type": "markdown",
   "metadata": {},
   "source": [
    "# **Build the Classification Model**\n",
    "\n",
    "**Aim:** Build an ***employee churn prediction model*** (predict if the employee will leave the organization or not) using **MLPClassifier.**\n",
    "\n",
    "**Steps:**  \n",
    "*   import the MLPClassifier module \n",
    "*   Create MLP Classifier object using MLPClassifier() function\n",
    "*   Fit our model on the train set using fit()\n",
    "*   Perform prediction on the test set using predict()\n",
    "\n",
    "**Parameters**:\n",
    "*   **hidden_layer_sizes:** it is a tuple where each element represents one layer and its value represents the number of neurons on each hidden layer.\n",
    "*   **learning_rate_init:** It used to controls the step-size in updating the \n",
    "      weights. \n",
    "*   **random_state:** It defines the random number for weights and bias \n",
    "      initialization.\n",
    "*   **verbose:** It used to print progress messages to standard output.\n",
    "*   **activation:** Activation function for the hidden layer. \n",
    "      Examples, identity, logistic, tanh, and relu. \n",
    "      *By default,* **relu** is used as an activation function.\n",
    "\n",
    "**Test for new data points and predict** "
   ]
  },
  {
   "cell_type": "code",
   "execution_count": 62,
   "metadata": {},
   "outputs": [
    {
     "name": "stdout",
     "output_type": "stream",
     "text": [
      "testpred is : [1]\n",
      "Employee will leave\n"
     ]
    },
    {
     "name": "stderr",
     "output_type": "stream",
     "text": [
      "C:\\Users\\adity\\AppData\\Local\\Packages\\PythonSoftwareFoundation.Python.3.8_qbz5n2kfra8p0\\LocalCache\\local-packages\\Python38\\site-packages\\sklearn\\base.py:450: UserWarning: X does not have valid feature names, but MLPClassifier was fitted with feature names\n",
      "  warnings.warn(\n"
     ]
    }
   ],
   "source": [
    "from sklearn.neural_network import MLPClassifier\n",
    "# Create model object\n",
    "clf = MLPClassifier(hidden_layer_sizes=(6, 5),random_state=5,learning_rate_init=0.01)\n",
    "\n",
    "# Fit data onto the model\n",
    "clf.fit(X_train, y_train)\n",
    "\n",
    "testX = [[0.37, 0.32, 2, 188, 3, 0, 0, 7, 0]]  # Employee will leave\n",
    "# testX = [[0.77, 0.72, 2, 159, 3, 0, 0, 2, 2]]    #Employee will stay\n",
    "testpred = clf.predict(testX)\n",
    "print(\"testpred is :\", testpred)\n",
    "\n",
    "if testpred == 0:\n",
    "  print(\"Employee will stay\")\n",
    "else:\n",
    "  print(\"Employee will leave\")"
   ]
  },
  {
   "cell_type": "markdown",
   "metadata": {},
   "source": [
    "# **Hand-coded Mini-Batch learning**\n",
    "\n",
    "*   N_TRAIN_SAMPLES will be got from the # of rows in shape[0] of the dataset \n",
    "*   N_EPOCHS and N_BATCH are hard-coded for this programs as 25 and 128 respectively \n",
    "*   N_CLASSES will be [0,1] as this is the outcome to be predicted '0' measn employee will stay and '1' means employee will leave\n",
    "\n",
    "**Mini Batch Training is done** \n",
    "\n",
    "*   To ensure random # of samples for mini-batch training **random.permutation** function is used\n",
    "*   The training is done for  N_EPOCHS. Here it is 25 epochs. \n",
    "\n",
    "**Plots**\n",
    "*   The Accuracy score for the train and test dataset is plotted "
   ]
  },
  {
   "cell_type": "code",
   "execution_count": 63,
   "metadata": {},
   "outputs": [],
   "source": [
    "# N_TRAIN_SAMPLES = X_train.shape[0]\n",
    "# N_EPOCHS = 25\n",
    "# N_BATCH = 128\n",
    "# N_CLASSES = np.unique(y_train)\n",
    "\n",
    "# scores_train = []\n",
    "# scores_test = []\n",
    "\n",
    "# # EPOCH\n",
    "# epoch = 0\n",
    "# while epoch < N_EPOCHS:\n",
    "#     #print('epoch: ', epoch)\n",
    "#     # SHUFFLING\n",
    "#     # Do randon permutation umtil the # of rows in dataset. Here it is 14,999\n",
    "#     random_perm = np.random.permutation(X_train.shape[0])\n",
    "#     mini_batch_index = 0\n",
    "\n",
    "#     #Do mini-batch training until # of rows are reached\n",
    "#     while True:\n",
    "#         # MINI-BATCH\n",
    "#         # Do for a random # of rows + fixed batch sixe\n",
    "#         indices = random_perm[mini_batch_index:mini_batch_index + N_BATCH]\n",
    "#         # Fit the MLP Classifier\n",
    "#         clf.partial_fit(X_train.iloc[indices],y_train.iloc[indices], classes=N_CLASSES)\n",
    "#         # Do for the rest after the previous mini-batch index\n",
    "#         mini_batch_index += N_BATCH\n",
    "\n",
    "#         if mini_batch_index >= N_TRAIN_SAMPLES:\n",
    "#             break\n",
    "\n",
    "#     # ACCURACY SCORE FOR TRAIN\n",
    "#     scores_train.append(clf.score(X_train, y_train))\n",
    "\n",
    "#     # ACCURACY SCORE FOR TEST\n",
    "#     scores_test.append(clf.score(X_test, y_test))\n",
    "\n",
    "#     epoch += 1\n",
    "\n",
    "# \"\"\" Plotting the Accuracy Score Over the 25 Epochs\"\"\"\n",
    "# fig, ax = plt.subplots(2, sharex=True, sharey=True)\n",
    "# ax[0].plot(scores_train)\n",
    "# ax[0].set_title('Train')\n",
    "# ax[1].plot(scores_test)\n",
    "# ax[1].set_title('Test')\n",
    "# fig.suptitle(\"Accuracy over epochs\", fontsize=14)\n",
    "# plt.show()\n"
   ]
  },
  {
   "cell_type": "markdown",
   "metadata": {},
   "source": [
    "# **Make Prediction and Evaluate the Model**\n",
    "\n",
    "*   Predictions are made on the test dataset\n",
    "*   Assess model accuracy based on available actual labels of the test dataset. \n"
   ]
  },
  {
   "cell_type": "code",
   "execution_count": 64,
   "metadata": {},
   "outputs": [
    {
     "name": "stdout",
     "output_type": "stream",
     "text": [
      "Accuracy Score for Train Data is 0.9455787982331861\n",
      "Accuracy Score for Test Data is 0.938\n"
     ]
    }
   ],
   "source": [
    "# Make prediction on train dataset\n",
    "from sklearn.metrics import accuracy_score\n",
    "ypredtrain = clf.predict(X_train)\n",
    "# Calcuate accuracy\n",
    "print(\"Accuracy Score for Train Data is\", accuracy_score(y_train, ypredtrain))\n",
    "# Make prediction on test dataset\n",
    "ypredtest = clf.predict(X_test)\n",
    "# Calcuate accuracy\n",
    "print(\"Accuracy Score for Test Data is\", accuracy_score(y_test, ypredtest))"
   ]
  },
  {
   "cell_type": "markdown",
   "metadata": {},
   "source": [
    "# **Model Measurement Analysis** \n",
    "\n",
    "*   Confusion Matrix \n",
    "*   Accuracy \n",
    "*   Precision \n",
    "*   Recall "
   ]
  },
  {
   "cell_type": "markdown",
   "metadata": {},
   "source": [
    "# **CONFUSION MATRIX FOR TRAIN DATASET**"
   ]
  },
  {
   "cell_type": "code",
   "execution_count": 81,
   "metadata": {},
   "outputs": [
    {
     "name": "stdout",
     "output_type": "stream",
     "text": [
      "For Train Data\n",
      "True Negative :- 2647 \n",
      "True Positive :- 8699 \n",
      "False Negative :- 435 \n",
      "False Positive :- 218\n",
      "Train Confusion Matrix is :- \n",
      " [[8699  435]\n",
      " [ 218 2647]]\n"
     ]
    }
   ],
   "source": [
    "from sklearn.metrics import confusion_matrix\n",
    "\n",
    "TN, FP, FN, TP = confusion_matrix(list(y_train), list(ypredtrain), labels=[1, 0]).ravel()\n",
    "print(\"For Train Data\")\n",
    "print(f'True Negative :- {TN} \\nTrue Positive :- {TP} \\nFalse Negative :- {FN} \\nFalse Positive :- {FP}')\n",
    "\n",
    "conftrain = confusion_matrix(y_train, ypredtrain)\n",
    "print(\"Train Confusion Matrix is :- \\n\", conftrain)"
   ]
  },
  {
   "cell_type": "markdown",
   "metadata": {},
   "source": [
    "# **CONFUSION MATRIX FOR TEST DATASET**"
   ]
  },
  {
   "cell_type": "code",
   "execution_count": 82,
   "metadata": {},
   "outputs": [
    {
     "name": "stdout",
     "output_type": "stream",
     "text": [
      "For Test Data\n",
      "True Negative :- 639 \n",
      "True Positive :- 2175 \n",
      "False Negative :- 119 \n",
      "False Positive :- 67\n",
      "Test Confusion Matrix is\n",
      " [[2175  119]\n",
      " [  67  639]]\n"
     ]
    }
   ],
   "source": [
    "TN, FP, FN, TP = confusion_matrix(list(y_test), list(ypredtest), labels=[1,0]).ravel()\n",
    "print(\"For Test Data\")\n",
    "print(f'True Negative :- {TN} \\nTrue Positive :- {TP} \\nFalse Negative :- {FN} \\nFalse Positive :- {FP}')\n",
    "\n",
    "conftest = confusion_matrix(y_test, ypredtest)\n",
    "print(\"Test Confusion Matrix is\\n\", conftest)"
   ]
  },
  {
   "cell_type": "markdown",
   "metadata": {},
   "source": [
    "# **CALCULATING PRECISION SCORE AND RECALL SCORE OF THE TEST AND TRAIN DATASET**"
   ]
  },
  {
   "cell_type": "code",
   "execution_count": 86,
   "metadata": {},
   "outputs": [
    {
     "name": "stdout",
     "output_type": "stream",
     "text": [
      "Test Precision is : 0.843\n",
      "Train Precision is : 0.859\n",
      "Test Recall is : 0.905\n",
      "Train Recall is : 0.924\n"
     ]
    }
   ],
   "source": [
    "from sklearn.metrics import precision_score , recall_score\n",
    "print(f\"Test Precision is : {precision_score(y_test, ypredtest):.3f}\")\n",
    "print(f\"Train Precision is : {precision_score(y_train, ypredtrain):.3f}\")\n",
    "print(f\"Test Recall is : {recall_score(y_test, ypredtest):.3f}\")\n",
    "print(f\"Train Recall is : {recall_score(y_train, ypredtrain):.3f}\")"
   ]
  },
  {
   "cell_type": "markdown",
   "metadata": {},
   "source": [
    "# **PLOTTING THE CONFUSION MATRIX IN GRAPH FORM FOR THE TRAIN AND TEST DATASET**"
   ]
  },
  {
   "cell_type": "code",
   "execution_count": 101,
   "metadata": {},
   "outputs": [
    {
     "data": {
      "text/plain": [
       "Text(0.5, 1.0, 'Test Confusion Matrix')"
      ]
     },
     "execution_count": 101,
     "metadata": {},
     "output_type": "execute_result"
    },
    {
     "data": {
      "image/png": "[encoded data removed]",
      "text/plain": [
       "<Figure size 432x288 with 2 Axes>"
      ]
     },
     "metadata": {
      "needs_background": "light"
     },
     "output_type": "display_data"
    },
    {
     "data": {
      "image/png": "[encoded data removed]",
      "text/plain": [
       "<Figure size 432x288 with 2 Axes>"
      ]
     },
     "metadata": {
      "needs_background": "light"
     },
     "output_type": "display_data"
    }
   ],
   "source": [
    "from sklearn.metrics import ConfusionMatrixDisplay\n",
    "myplt = plt.figure(figsize=(8, 8))\n",
    "ax1 = myplt.add_subplot(2, 2, 1)\n",
    "disp = ConfusionMatrixDisplay(confusion_matrix=conftrain)\n",
    "disp.plot(cmap=plt.cm.Blues)\n",
    "plt.title(\"Train Confusion Matrix\")\n",
    "\n",
    "disp = ConfusionMatrixDisplay(confusion_matrix=conftest)\n",
    "disp.plot(cmap=plt.cm.Greens)\n",
    "plt.title(\"Test Confusion Matrix\")"
   ]
  }
 ],
 "metadata": {
  "interpreter": {
   "hash": "6f8f3054a7a12fe7352058eccdef04b8bf49ea888ba7350a6a9ec316568019a1"
  },
  "kernelspec": {
   "display_name": "Python 3.8.10 64-bit (windows store)",
   "language": "python",
   "name": "python3"
  },
  "language_info": {
   "codemirror_mode": {
    "name": "ipython",
    "version": 3
   },
   "file_extension": ".py",
   "mimetype": "text/x-python",
   "name": "python",
   "nbconvert_exporter": "python",
   "pygments_lexer": "ipython3",
   "version": "3.8.10"
  },
  "orig_nbformat": 4
 },
 "nbformat": 4,
 "nbformat_minor": 2
}
