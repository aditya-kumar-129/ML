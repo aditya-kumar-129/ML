{
  "cells": [
    {
      "cell_type": "markdown",
      "metadata": {
        "id": "l6SxT0eZqerr"
      },
      "source": [
        "**Importing pandas to read the data**\n",
        "\n",
        "\n",
        "**Importing matplotlib and seaborn to plot the data**"
      ]
    },
    {
      "cell_type": "code",
      "execution_count": 24,
      "metadata": {
        "id": "8x7ogtTgp6if"
      },
      "outputs": [],
      "source": [
        "import pandas as pd\n",
        "import seaborn as sns\n",
        "import matplotlib.pyplot as plt"
      ]
    },
    {
      "cell_type": "markdown",
      "metadata": {},
      "source": [
        "**Reading data using pandas**"
      ]
    },
    {
      "cell_type": "code",
      "execution_count": 25,
      "metadata": {
        "colab": {
          "base_uri": "https://localhost:8080/",
          "height": 206
        },
        "id": "-7SaRm1WqxOP",
        "outputId": "9d3fabb3-3be5-40b9-a80e-139b3b2bb8c4"
      },
      "outputs": [
        {
          "data": {
            "text/html": [
              "<div>\n",
              "<style scoped>\n",
              "    .dataframe tbody tr th:only-of-type {\n",
              "        vertical-align: middle;\n",
              "    }\n",
              "\n",
              "    .dataframe tbody tr th {\n",
              "        vertical-align: top;\n",
              "    }\n",
              "\n",
              "    .dataframe thead th {\n",
              "        text-align: right;\n",
              "    }\n",
              "</style>\n",
              "<table border=\"1\" class=\"dataframe\">\n",
              "  <thead>\n",
              "    <tr style=\"text-align: right;\">\n",
              "      <th></th>\n",
              "      <th>User ID</th>\n",
              "      <th>Gender</th>\n",
              "      <th>Age</th>\n",
              "      <th>EstimatedSalary</th>\n",
              "      <th>Purchased</th>\n",
              "    </tr>\n",
              "  </thead>\n",
              "  <tbody>\n",
              "    <tr>\n",
              "      <th>0</th>\n",
              "      <td>15624510</td>\n",
              "      <td>Male</td>\n",
              "      <td>19</td>\n",
              "      <td>19000</td>\n",
              "      <td>0</td>\n",
              "    </tr>\n",
              "    <tr>\n",
              "      <th>1</th>\n",
              "      <td>15810944</td>\n",
              "      <td>Male</td>\n",
              "      <td>35</td>\n",
              "      <td>20000</td>\n",
              "      <td>0</td>\n",
              "    </tr>\n",
              "    <tr>\n",
              "      <th>2</th>\n",
              "      <td>15668575</td>\n",
              "      <td>Female</td>\n",
              "      <td>26</td>\n",
              "      <td>43000</td>\n",
              "      <td>0</td>\n",
              "    </tr>\n",
              "    <tr>\n",
              "      <th>3</th>\n",
              "      <td>15603246</td>\n",
              "      <td>Female</td>\n",
              "      <td>27</td>\n",
              "      <td>57000</td>\n",
              "      <td>0</td>\n",
              "    </tr>\n",
              "    <tr>\n",
              "      <th>4</th>\n",
              "      <td>15804002</td>\n",
              "      <td>Male</td>\n",
              "      <td>19</td>\n",
              "      <td>76000</td>\n",
              "      <td>0</td>\n",
              "    </tr>\n",
              "  </tbody>\n",
              "</table>\n",
              "</div>"
            ],
            "text/plain": [
              "    User ID  Gender  Age  EstimatedSalary  Purchased\n",
              "0  15624510    Male   19            19000          0\n",
              "1  15810944    Male   35            20000          0\n",
              "2  15668575  Female   26            43000          0\n",
              "3  15603246  Female   27            57000          0\n",
              "4  15804002    Male   19            76000          0"
            ]
          },
          "execution_count": 25,
          "metadata": {},
          "output_type": "execute_result"
        }
      ],
      "source": [
        "data = pd.read_csv('Customer_Behaviour.csv')\n",
        "# Printing the dataframe to see the data in the file \n",
        "data.head()"
      ]
    },
    {
      "cell_type": "markdown",
      "metadata": {
        "id": "Ppk6gfnSrKBy"
      },
      "source": [
        "**As values of the Gender column is in the form of Strings so we need to use LabelEncoder to convert the string data to numerical data**"
      ]
    },
    {
      "cell_type": "code",
      "execution_count": 26,
      "metadata": {
        "id": "qPh18yNbrCvA"
      },
      "outputs": [],
      "source": [
        "# importing the library for label encoding\n",
        "from sklearn.preprocessing import LabelEncoder\n",
        "le = LabelEncoder()\n",
        "# fit_transform() method is used to encode the data in the dataframe \n",
        "# and return the encoded data in the dataframe\n",
        "data['Encoded_Gender'] = le.fit_transform(data['Gender'])"
      ]
    },
    {
      "cell_type": "markdown",
      "metadata": {
        "id": "b1YLzMEJsZ84"
      },
      "source": [
        "**Printing the data information**"
      ]
    },
    {
      "cell_type": "code",
      "execution_count": 27,
      "metadata": {
        "colab": {
          "base_uri": "https://localhost:8080/"
        },
        "id": "J_GXoC98rivY",
        "outputId": "34c3bb35-e733-42d1-82df-e8855cea08aa"
      },
      "outputs": [
        {
          "name": "stdout",
          "output_type": "stream",
          "text": [
            "<class 'pandas.core.frame.DataFrame'>\n",
            "RangeIndex: 400 entries, 0 to 399\n",
            "Data columns (total 6 columns):\n",
            " #   Column           Non-Null Count  Dtype \n",
            "---  ------           --------------  ----- \n",
            " 0   User ID          400 non-null    int64 \n",
            " 1   Gender           400 non-null    object\n",
            " 2   Age              400 non-null    int64 \n",
            " 3   EstimatedSalary  400 non-null    int64 \n",
            " 4   Purchased        400 non-null    int64 \n",
            " 5   Encoded_Gender   400 non-null    int32 \n",
            "dtypes: int32(1), int64(4), object(1)\n",
            "memory usage: 17.3+ KB\n"
          ]
        }
      ],
      "source": [
        "data.info(verbose=True)"
      ]
    },
    {
      "cell_type": "markdown",
      "metadata": {},
      "source": [
        "**Plot bar graph of each of the properties of the data using the missingno package**"
      ]
    },
    {
      "cell_type": "code",
      "execution_count": 28,
      "metadata": {
        "colab": {
          "base_uri": "https://localhost:8080/",
          "height": 698
        },
        "id": "mZXY9O1ys44G",
        "outputId": "bdfeb644-9ac1-43b9-a938-06a83c4e4c23"
      },
      "outputs": [
        {
          "data": {
            "image/png": "[encoded data removed]",
            "text/plain": [
              "<Figure size 1800x720 with 3 Axes>"
            ]
          },
          "metadata": {
            "needs_background": "light"
          },
          "output_type": "display_data"
        }
      ],
      "source": [
        "import missingno as msno\n",
        "null_count_plot = msno.bar(data)"
      ]
    },
    {
      "cell_type": "markdown",
      "metadata": {
        "id": "r0I5S5_qtu64"
      },
      "source": [
        "# **COMMENT on above plot :-** \n",
        "\n",
        "We can see out of 400 rows which are available all the columns as 400 values so no NaN values are there in the dataset"
      ]
    },
    {
      "cell_type": "markdown",
      "metadata": {},
      "source": [
        "**Plotting the histogram of the data**"
      ]
    },
    {
      "cell_type": "code",
      "execution_count": 29,
      "metadata": {
        "colab": {
          "base_uri": "https://localhost:8080/",
          "height": 607
        },
        "id": "eTNaXheE9XVQ",
        "outputId": "786c2231-7629-4c2e-bb5c-60bc0e4c38ef"
      },
      "outputs": [
        {
          "data": {
            "image/png": "[encoded data removed]",
            "text/plain": [
              "<Figure size 1080x720 with 2 Axes>"
            ]
          },
          "metadata": {
            "needs_background": "light"
          },
          "output_type": "display_data"
        }
      ],
      "source": [
        "distribution_plot = data[['Age','EstimatedSalary']].hist(figsize = (15,10))"
      ]
    },
    {
      "cell_type": "markdown",
      "metadata": {
        "id": "wmuQEUv0_Hzf"
      },
      "source": [
        "**Splitting the data for training and testing pahse using train_test_split function of sklearn**\n",
        "\n",
        "test_size = 0.2 it means that 20% will be used for testing and 80% will be used for training i.e, out of 100 samples, 20 sample will be used for testing and 80 sample will be used for training"
      ]
    },
    {
      "cell_type": "code",
      "execution_count": 30,
      "metadata": {
        "id": "TjSrjxBztCHD"
      },
      "outputs": [],
      "source": [
        "from sklearn.model_selection import train_test_split\n",
        "features = data[['Encoded_Gender','Age','EstimatedSalary']]\n",
        "label = data['Purchased']\n",
        "x_train,x_test,y_train,y_test = train_test_split(features,label,test_size=0.2,random_state=42)"
      ]
    },
    {
      "cell_type": "markdown",
      "metadata": {
        "id": "KgOgDSOa_ZBO"
      },
      "source": [
        "**Using sklearn inbuilt function KNeighborsClassifier and predicting the values**"
      ]
    },
    {
      "cell_type": "code",
      "execution_count": 31,
      "metadata": {
        "colab": {
          "base_uri": "https://localhost:8080/"
        },
        "id": "fTmyICkp9S6T",
        "outputId": "ce3b2ff1-6a7a-4be3-ff48-ba7a3c463867"
      },
      "outputs": [
        {
          "name": "stdout",
          "output_type": "stream",
          "text": [
            "Not purchased\n"
          ]
        },
        {
          "name": "stderr",
          "output_type": "stream",
          "text": [
            "C:\\Users\\adity\\AppData\\Local\\Packages\\PythonSoftwareFoundation.Python.3.8_qbz5n2kfra8p0\\LocalCache\\local-packages\\Python38\\site-packages\\sklearn\\base.py:450: UserWarning: X does not have valid feature names, but KNeighborsClassifier was fitted with feature names\n",
            "  warnings.warn(\n"
          ]
        }
      ],
      "source": [
        "#Primarly taking the k value as 3 and predicting the value for [0,19,21000]\n",
        "from sklearn.neighbors import KNeighborsClassifier\n",
        "model = KNeighborsClassifier(n_neighbors = 3 )\n",
        "model.fit(x_train,y_train)\n",
        "predicted = model.predict([[0,19,21000]])\n",
        "print(\"Purchased \" if predicted else \"Not purchased\" )"
      ]
    },
    {
      "cell_type": "markdown",
      "metadata": {
        "id": "8TxmIiiz_0NB"
      },
      "source": [
        "**Now we need to find the optimal value for k so that we can use KNN perfectly**\n",
        "\n",
        "\n",
        "**Taking k from 1 to 20 and finding the accuracy**"
      ]
    },
    {
      "cell_type": "code",
      "execution_count": 34,
      "metadata": {
        "colab": {
          "base_uri": "https://localhost:8080/"
        },
        "id": "4zXYGezi_v9c",
        "outputId": "a3e90144-a466-401f-ba46-c17fd1ee9f27"
      },
      "outputs": [
        {
          "name": "stdout",
          "output_type": "stream",
          "text": [
            "For k = 1 The accuracy of the model is :- 0.8\n",
            "For k = 2 The accuracy of the model is :- 0.8\n",
            "For k = 3 The accuracy of the model is :- 0.8\n",
            "For k = 4 The accuracy of the model is :- 0.8\n",
            "For k = 5 The accuracy of the model is :- 0.8\n",
            "For k = 6 The accuracy of the model is :- 0.8\n",
            "For k = 7 The accuracy of the model is :- 0.8\n",
            "For k = 8 The accuracy of the model is :- 0.8\n",
            "For k = 9 The accuracy of the model is :- 0.8\n",
            "For k = 10 The accuracy of the model is :- 0.8\n",
            "For k = 11 The accuracy of the model is :- 0.8\n",
            "For k = 12 The accuracy of the model is :- 0.8\n",
            "For k = 13 The accuracy of the model is :- 0.8\n",
            "For k = 14 The accuracy of the model is :- 0.8\n",
            "For k = 15 The accuracy of the model is :- 0.8\n",
            "For k = 16 The accuracy of the model is :- 0.8\n",
            "For k = 17 The accuracy of the model is :- 0.8\n",
            "For k = 18 The accuracy of the model is :- 0.8\n",
            "For k = 19 The accuracy of the model is :- 0.8\n"
          ]
        }
      ],
      "source": [
        "# importing the accuracy_score from the sklearn library for calculating the accuracy score for various k values for the model\n",
        "from sklearn.metrics import accuracy_score\n",
        "accuracy_scores = []\n",
        "for k in range(1,20):\n",
        "  predicted_vals =  model.predict(x_test)\n",
        "  accuracy = accuracy_score(y_test, predicted_vals)\n",
        "  accuracy_scores.append(accuracy)\n",
        "  print(f\"For k = {k} The accuracy of the model is :- {accuracy}\")\n"
      ]
    },
    {
      "cell_type": "markdown",
      "metadata": {},
      "source": [
        "# **COMMENT ON THE ABOVE OUTPUT :-**\n",
        "\n",
        "**Suprisingly accuracy for any K value for this particular dataset is same so we can use any k value as all are giving same accuracy of 80 %**"
      ]
    },
    {
      "cell_type": "code",
      "execution_count": 33,
      "metadata": {
        "colab": {
          "base_uri": "https://localhost:8080/",
          "height": 375
        },
        "id": "QcXRL9m1AnQ8",
        "outputId": "2913a58f-d358-471b-b2f7-14b385f4f64f"
      },
      "outputs": [
        {
          "name": "stderr",
          "output_type": "stream",
          "text": [
            "C:\\Users\\adity\\AppData\\Local\\Packages\\PythonSoftwareFoundation.Python.3.8_qbz5n2kfra8p0\\LocalCache\\local-packages\\Python38\\site-packages\\seaborn\\_decorators.py:36: FutureWarning: Pass the following variables as keyword args: x, y. From version 0.12, the only valid positional argument will be `data`, and passing other arguments without an explicit keyword will result in an error or misinterpretation.\n",
            "  warnings.warn(\n"
          ]
        },
        {
          "data": {
            "image/png": "[encoded data removed]",
            "text/plain": [
              "<Figure size 864x360 with 1 Axes>"
            ]
          },
          "metadata": {
            "needs_background": "light"
          },
          "output_type": "display_data"
        }
      ],
      "source": [
        "# Plotting the accuracy score for the model for various k values\n",
        "plt.figure(figsize=(12,5))\n",
        "p = sns.lineplot(range(1,20),accuracy_scores,marker='o',label='Test Accuracy Score')"
      ]
    }
  ],
  "metadata": {
    "colab": {
      "name": "1MS19IS122_Sunkara Ayodhyaramireddy_CustomerBehaviour.ipynb",
      "provenance": []
    },
    "kernelspec": {
      "display_name": "Python 3.8.10 64-bit (windows store)",
      "language": "python",
      "name": "python3"
    },
    "language_info": {
      "codemirror_mode": {
        "name": "ipython",
        "version": 3
      },
      "file_extension": ".py",
      "mimetype": "text/x-python",
      "name": "python",
      "nbconvert_exporter": "python",
      "pygments_lexer": "ipython3",
      "version": "3.8.10"
    },
    "vscode": {
      "interpreter": {
        "hash": "6f8f3054a7a12fe7352058eccdef04b8bf49ea888ba7350a6a9ec316568019a1"
      }
    }
  },
  "nbformat": 4,
  "nbformat_minor": 0
}
